{
  "nbformat": 4,
  "nbformat_minor": 0,
  "metadata": {
    "colab": {
      "name": "Covid-19-detection_EDA.ipynb",
      "provenance": [],
      "collapsed_sections": [],
      "mount_file_id": "1OulF4wr7S4wLY7ui4Nk2KZpYP4az_aeU",
      "authorship_tag": "ABX9TyNSB6qWXjDM6i1/cMMOAL8c",
      "include_colab_link": true
    },
    "kernelspec": {
      "name": "python3",
      "display_name": "Python 3"
    },
    "language_info": {
      "name": "python"
    },
    "accelerator": "TPU"
  },
  "cells": [
    {
      "cell_type": "markdown",
      "metadata": {
        "id": "view-in-github",
        "colab_type": "text"
      },
      "source": [
        "<a href=\"https://colab.research.google.com/github/rajatpaliwal/SIIM-FISABIO-RSNA-COVID-19-Detection/blob/main/Covid_19_detection_EDA.ipynb\" target=\"_parent\"><img src=\"https://colab.research.google.com/assets/colab-badge.svg\" alt=\"Open In Colab\"/></a>"
      ]
    },
    {
      "cell_type": "code",
      "metadata": {
        "id": "r49fFyM7PO2Z"
      },
      "source": [
        "!pip install pyarrow\n",
        "!pip install pydicom kornia opencv-python scikit-image nbdev\n"
      ],
      "execution_count": null,
      "outputs": []
    },
    {
      "cell_type": "code",
      "metadata": {
        "id": "cXWrBWTEQNbp"
      },
      "source": [
        "!pip install fastai --upgrade\n"
      ],
      "execution_count": null,
      "outputs": []
    },
    {
      "cell_type": "code",
      "metadata": {
        "colab": {
          "base_uri": "https://localhost:8080/"
        },
        "id": "OGdkFixrP-Q-",
        "outputId": "e4027c71-ad19-481b-bbee-6a5a409e75fa"
      },
      "source": [
        "#importing required libraries\n",
        "from fastai.basics import *\n",
        "from fastai.callback.all import *\n",
        "from fastai.vision.all import *\n",
        "from fastai.medical.imaging import *\n",
        "\n",
        "import pydicom\n",
        "\n",
        "import pandas as pd\n"
      ],
      "execution_count": null,
      "outputs": [
        {
          "output_type": "stream",
          "text": [
            "/usr/local/lib/python3.7/dist-packages/kornia/augmentation/augmentation.py:1833: DeprecationWarning: GaussianBlur is no longer maintained and will be removed from the future versions. Please use RandomGaussianBlur instead.\n",
            "  category=DeprecationWarning,\n"
          ],
          "name": "stderr"
        }
      ]
    },
    {
      "cell_type": "code",
      "metadata": {
        "colab": {
          "base_uri": "https://localhost:8080/"
        },
        "id": "LtVkAH-ViZ9x",
        "outputId": "4ac22774-1b8d-4e2b-9d15-cf798431bdd7"
      },
      "source": [
        "cd \"drive/MyDrive/kaggle-CoVID-shared/\""
      ],
      "execution_count": null,
      "outputs": [
        {
          "output_type": "stream",
          "text": [
            "/content/drive/.shortcut-targets-by-id/1tPrNzJE6Mj9Xu84mxAdMZqVcvCWxH0ig/kaggle-CoVID-shared\n"
          ],
          "name": "stdout"
        }
      ]
    },
    {
      "cell_type": "markdown",
      "metadata": {
        "id": "cjA3w0C_dZcl"
      },
      "source": [
        "Now we store the path to each DICOM file in the items list."
      ]
    },
    {
      "cell_type": "code",
      "metadata": {
        "id": "ZDvhxVr8d6Rr"
      },
      "source": [
        "data_source = \"dataset/\""
      ],
      "execution_count": null,
      "outputs": []
    },
    {
      "cell_type": "code",
      "metadata": {
        "id": "2mPta_diiqdl",
        "colab": {
          "base_uri": "https://localhost:8080/"
        },
        "outputId": "47ce95bf-e1bb-4c9a-871d-f0c42c4ce6a9"
      },
      "source": [
        "items = get_dicom_files(data_source,recurse= True,folders ='train')\n",
        "items"
      ],
      "execution_count": null,
      "outputs": [
        {
          "output_type": "execute_result",
          "data": {
            "text/plain": [
              "(#6334) [Path('dataset/train/fa6d3b56e333/27ad48d6bd2d/9bc4d429d4e8.dcm'),Path('dataset/train/7dbc098b8eaf/21b49419d829/78753bfe52b2.dcm'),Path('dataset/train/20a86e21402f/637b252e991f/0811fe666ab0.dcm'),Path('dataset/train/b1c31c1e103a/ccfd2e441885/39d186c9ff9c.dcm'),Path('dataset/train/e395615a9a0d/a62d7707e47f/1ce01f7fdb1c.dcm'),Path('dataset/train/08b3ed9bd8ff/2dc9732337a0/042e8fe12700.dcm'),Path('dataset/train/edcd962d41ef/748f6eb8f737/bc3a2103facf.dcm'),Path('dataset/train/8557928e510e/80c2c6931e49/30353c8bddab.dcm'),Path('dataset/train/4f8d4904d509/030cfe13cd41/6b6b72356cc9.dcm'),Path('dataset/train/e752b12382d1/bdf056458d79/beaad17c1748.dcm')...]"
            ]
          },
          "metadata": {
            "tags": []
          },
          "execution_count": 8
        }
      ]
    },
    {
      "cell_type": "code",
      "metadata": {
        "id": "W2K0GbiMk5yW"
      },
      "source": [
        ""
      ],
      "execution_count": null,
      "outputs": []
    },
    {
      "cell_type": "code",
      "metadata": {
        "id": "E5VOzLeHlRUD"
      },
      "source": [
        ""
      ],
      "execution_count": null,
      "outputs": []
    }
  ]
}