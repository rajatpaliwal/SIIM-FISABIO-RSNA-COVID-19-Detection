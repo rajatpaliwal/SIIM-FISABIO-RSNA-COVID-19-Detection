{
  "nbformat": 4,
  "nbformat_minor": 0,
  "metadata": {
    "colab": {
      "name": "Covid-19-detection_prediction.ipynb",
      "provenance": [],
      "collapsed_sections": [],
      "include_colab_link": true
    },
    "kernelspec": {
      "name": "python3",
      "display_name": "Python 3"
    },
    "language_info": {
      "name": "python"
    },
    "accelerator": "GPU"
  },
  "cells": [
    {
      "cell_type": "markdown",
      "metadata": {
        "id": "view-in-github",
        "colab_type": "text"
      },
      "source": [
        "<a href=\"https://colab.research.google.com/github/rajatpaliwal/SIIM-FISABIO-RSNA-COVID-19-Detection/blob/main/Covid_19_detection_prediction.ipynb\" target=\"_parent\"><img src=\"https://colab.research.google.com/assets/colab-badge.svg\" alt=\"Open In Colab\"/></a>"
      ]
    },
    {
      "cell_type": "code",
      "metadata": {
        "id": "r49fFyM7PO2Z"
      },
      "source": [
        "!pip install pyarrow\n",
        "!pip install pydicom kornia opencv-python scikit-image nbdev\n",
        "!pip install pylibjpeg\n",
        "!pip install fastai --upgrade\n"
      ],
      "execution_count": null,
      "outputs": []
    },
    {
      "cell_type": "code",
      "metadata": {
        "colab": {
          "base_uri": "https://localhost:8080/"
        },
        "id": "6vJbWrYmFQ1Q",
        "outputId": "4d52a7fa-6114-46e8-9bdf-4910bc67aa83"
      },
      "source": [
        "!pip install python-gdcm -q\n",
        "!git clone https://github.com/asvcode/fmi.git"
      ],
      "execution_count": null,
      "outputs": [
        {
          "output_type": "stream",
          "text": [
            "fatal: destination path 'fmi' already exists and is not an empty directory.\n"
          ],
          "name": "stdout"
        }
      ]
    },
    {
      "cell_type": "code",
      "metadata": {
        "id": "OGdkFixrP-Q-",
        "colab": {
          "base_uri": "https://localhost:8080/"
        },
        "outputId": "b3649f1a-3357-4452-8ad3-5a4866099e55"
      },
      "source": [
        "\n",
        "#importing required libraries\n",
        "from fastai.basics import *\n",
        "from fastai.callback.all import *\n",
        "from fastai.vision.all import *\n",
        "from fastai.medical.imaging import *\n",
        "from fmi.fmi.explore import *\n",
        "from fmi.fmi.preprocessing import *\n",
        "from fmi.fmi.pipeline import *\n",
        "\n",
        "import pydicom\n",
        "\n",
        "import pandas as pd\n"
      ],
      "execution_count": null,
      "outputs": [
        {
          "output_type": "stream",
          "text": [
            "/usr/local/lib/python3.7/dist-packages/kornia/augmentation/augmentation.py:1833: DeprecationWarning: GaussianBlur is no longer maintained and will be removed from the future versions. Please use RandomGaussianBlur instead.\n",
            "  category=DeprecationWarning,\n"
          ],
          "name": "stderr"
        }
      ]
    },
    {
      "cell_type": "markdown",
      "metadata": {
        "id": "7wgqXSaoGzd-"
      },
      "source": [
        "Note: fmi short for fastai medical imaging is a package that adds lots of other functionality to fastai's medical imaging module."
      ]
    },
    {
      "cell_type": "markdown",
      "metadata": {
        "id": "lX7PyXsFHgPB"
      },
      "source": [
        "Reviewing system info"
      ]
    },
    {
      "cell_type": "code",
      "metadata": {
        "colab": {
          "base_uri": "https://localhost:8080/"
        },
        "id": "Ik07_x_JHe0O",
        "outputId": "983135a0-d562-4904-903f-b83fd76bb3e8"
      },
      "source": [
        "system_info()"
      ],
      "execution_count": null,
      "outputs": [
        {
          "output_type": "stream",
          "text": [
            "\u001b[1m\u001b[94mfastai Version: \u001b[0m\u001b[3m2.4\n",
            "\u001b[1m\u001b[94mfastcore Version: \u001b[0m\u001b[3m1.3.20\n",
            "\u001b[1m\u001b[94mpython Version: \u001b[0m\u001b[3m3.7.10 (default, May  3 2021, 02:48:31) \n",
            "[GCC 7.5.0]\n",
            "\u001b[1m\u001b[94mtorchvision: \u001b[0m\u001b[3m0.10.0+cu102\n",
            "\u001b[1m\u001b[94mtorch version: \u001b[0m\u001b[3m1.9.0+cu102\n",
            "\u001b[1m\u001b[94m\n",
            "Cuda: \u001b[0m\u001b[3mTrue\n",
            "\u001b[1m\u001b[94mCuda Version: \u001b[0m\u001b[3m10.2\n",
            "\u001b[1m\u001b[94mGPU: \u001b[0m\u001b[3mTesla T4\n",
            "\u001b[1m\u001b[94m\n",
            "pydicom Version: \u001b[0m\u001b[3m2.1.2\n",
            "\u001b[1m\u001b[94mkornia Version: \u001b[0m\u001b[3m0.5.4\n"
          ],
          "name": "stdout"
        }
      ]
    },
    {
      "cell_type": "code",
      "metadata": {
        "colab": {
          "base_uri": "https://localhost:8080/"
        },
        "id": "k2V8BKsSvtRl",
        "outputId": "dfbfc71c-8088-402f-8a18-2dcade9f8203"
      },
      "source": [
        "from google.colab import drive\n",
        "drive.mount('/content/drive')"
      ],
      "execution_count": null,
      "outputs": [
        {
          "output_type": "stream",
          "text": [
            "Drive already mounted at /content/drive; to attempt to forcibly remount, call drive.mount(\"/content/drive\", force_remount=True).\n"
          ],
          "name": "stdout"
        }
      ]
    },
    {
      "cell_type": "code",
      "metadata": {
        "colab": {
          "base_uri": "https://localhost:8080/",
          "height": 35
        },
        "id": "FzEvN_fKemiM",
        "outputId": "b8872eef-62f9-4443-96d3-8c3a2aaf6770"
      },
      "source": [
        "pwd"
      ],
      "execution_count": null,
      "outputs": [
        {
          "output_type": "execute_result",
          "data": {
            "application/vnd.google.colaboratory.intrinsic+json": {
              "type": "string"
            },
            "text/plain": [
              "'/content/drive/.shortcut-targets-by-id/1tPrNzJE6Mj9Xu84mxAdMZqVcvCWxH0ig/kaggle-CoVID-shared'"
            ]
          },
          "metadata": {
            "tags": []
          },
          "execution_count": 14
        }
      ]
    },
    {
      "cell_type": "code",
      "metadata": {
        "colab": {
          "base_uri": "https://localhost:8080/"
        },
        "id": "LtVkAH-ViZ9x",
        "outputId": "6d4e3a04-2fff-4d76-b61e-576411f2942f"
      },
      "source": [
        "cd \"drive/MyDrive/kaggle-CoVID-shared/\""
      ],
      "execution_count": null,
      "outputs": [
        {
          "output_type": "stream",
          "text": [
            "[Errno 2] No such file or directory: 'drive/MyDrive/kaggle-CoVID-shared/'\n",
            "/content/drive/.shortcut-targets-by-id/1tPrNzJE6Mj9Xu84mxAdMZqVcvCWxH0ig/kaggle-CoVID-shared\n"
          ],
          "name": "stdout"
        }
      ]
    },
    {
      "cell_type": "markdown",
      "metadata": {
        "id": "cjA3w0C_dZcl"
      },
      "source": [
        "Now we store the path to each DICOM file in the items list."
      ]
    },
    {
      "cell_type": "code",
      "metadata": {
        "id": "ZDvhxVr8d6Rr"
      },
      "source": [
        "data_source = \"dataset/\""
      ],
      "execution_count": null,
      "outputs": []
    },
    {
      "cell_type": "code",
      "metadata": {
        "id": "2mPta_diiqdl",
        "colab": {
          "base_uri": "https://localhost:8080/"
        },
        "outputId": "262c0d6c-5b74-4b44-e25d-723b09275df7"
      },
      "source": [
        "items = get_dicom_files(data_source,recurse= True,folders ='train')\n",
        "items"
      ],
      "execution_count": null,
      "outputs": [
        {
          "output_type": "execute_result",
          "data": {
            "text/plain": [
              "(#6334) [Path('dataset/train/dcd5cc87f977/c7b819704a31/1018aa051dd9.dcm'),Path('dataset/train/cc127cda72f8/2282d21304fe/609755daf53e.dcm'),Path('dataset/train/0599d527d3b6/a8714b1b151b/8c5ed871aaba.dcm'),Path('dataset/train/76938243a97f/fc343e086d40/34a0ef23101b.dcm'),Path('dataset/train/8c273b4a9fa6/673cd32032e0/57b6a7d68589.dcm'),Path('dataset/train/293a41fb59ed/526c251433aa/8d2cf62914e3.dcm'),Path('dataset/train/cf002a39bb2d/3c7a58e6cff0/ad22bba45d10.dcm'),Path('dataset/train/2829975db9f5/6f521883b080/5c1e736c0af9.dcm'),Path('dataset/train/4d11294713ad/3527b13c6b4b/66a513ecac8f.dcm'),Path('dataset/train/37632f2a2aae/848ec9ecc506/5f16050c324e.dcm')...]"
            ]
          },
          "metadata": {
            "tags": []
          },
          "execution_count": 17
        }
      ]
    },
    {
      "cell_type": "code",
      "metadata": {
        "colab": {
          "base_uri": "https://localhost:8080/"
        },
        "id": "3tdezUIsI9KO",
        "outputId": "1edb7a51-5e3f-4fa2-8ef9-1ea8f5877e8c"
      },
      "source": [
        "test_items = get_dicom_files(data_source,recurse= True, folders ='test')\n",
        "test_items"
      ],
      "execution_count": null,
      "outputs": [
        {
          "output_type": "execute_result",
          "data": {
            "text/plain": [
              "(#1263) [Path('dataset/test/4831aac65647/e940bb7d8f32/95a69615f643.dcm'),Path('dataset/test/514c5133572d/db1f16a85e54/eb9a9b9a0870.dcm'),Path('dataset/test/394e0e1481e9/c31a6d90f66c/173c3e37e1f3.dcm'),Path('dataset/test/3c17fa476f85/3a97b7036956/b5f9a65597f2.dcm'),Path('dataset/test/a80006bd7d8f/65dc9ce7761b/6dea3c3d1efa.dcm'),Path('dataset/test/aac24f8be440/2ad7bbc2fa62/697a674d44e0.dcm'),Path('dataset/test/572fa8640acc/8003c18a7215/eb5787b68520.dcm'),Path('dataset/test/8309732e6809/3cbbc2cb61a2/3247432330d8.dcm'),Path('dataset/test/3f0b1b5976e8/71873eeb248d/553cc2a7b556.dcm'),Path('dataset/test/57e2c6e368f2/f949cdd2e011/cede944b70a5.dcm')...]"
            ]
          },
          "metadata": {
            "tags": []
          },
          "execution_count": 18
        }
      ]
    },
    {
      "cell_type": "markdown",
      "metadata": {
        "id": "ZXI0vJjD05pH"
      },
      "source": [
        "Splitting the training dataset into train and validation set."
      ]
    },
    {
      "cell_type": "code",
      "metadata": {
        "id": "R6E3_DdFmOXb"
      },
      "source": [
        "trn,val = RandomSplitter()(items)\n"
      ],
      "execution_count": null,
      "outputs": []
    },
    {
      "cell_type": "code",
      "metadata": {
        "id": "W2K0GbiMk5yW"
      },
      "source": [
        "patient = 1\n",
        "train_sample = items[patient].dcmread()"
      ],
      "execution_count": null,
      "outputs": []
    },
    {
      "cell_type": "code",
      "metadata": {
        "id": "E5VOzLeHlRUD",
        "colab": {
          "base_uri": "https://localhost:8080/"
        },
        "outputId": "5daa8836-57c5-4ea5-8ef9-2a41dadff02c"
      },
      "source": [
        "train_sample"
      ],
      "execution_count": null,
      "outputs": [
        {
          "output_type": "execute_result",
          "data": {
            "text/plain": [
              "Dataset.file_meta -------------------------------\n",
              "(0002, 0002) Media Storage SOP Class UID         UI: Digital X-Ray Image Storage - For Presentation\n",
              "(0002, 0003) Media Storage SOP Instance UID      UI: 1.2.840.113654.2.70.1.214503545285414572528761698891096816580\n",
              "(0002, 0010) Transfer Syntax UID                 UI: Explicit VR Little Endian\n",
              "-------------------------------------------------\n",
              "(0008, 0005) Specific Character Set              CS: 'ISO_IR 100'\n",
              "(0008, 0008) Image Type                          CS: ['DERIVED', 'PRIMARY']\n",
              "(0008, 0016) SOP Class UID                       UI: 71228e4340de\n",
              "(0008, 0018) SOP Instance UID                    UI: 609755daf53e\n",
              "(0008, 0020) Study Date                          DA: 'ae56c72565cb'\n",
              "(0008, 0030) Study Time                          TM: '3a89da23ecd4'\n",
              "(0008, 0050) Accession Number                    SH: '1981bcc33d0c'\n",
              "(0008, 0060) Modality                            CS: 'DX'\n",
              "(0010, 0010) Patient's Name                      PN: '5702f1e99d2d'\n",
              "(0010, 0020) Patient ID                          LO: 'ebd0829cb3bc'\n",
              "(0010, 0040) Patient's Sex                       CS: 'M'\n",
              "(0012, 0063) De-identification Method            LO: 'CTP Default:  based on DICOM PS3.15 AnnexE. Details in 0012,0064'\n",
              "(0012, 0064)  De-identification Method Code Sequence  6 item(s) ---- \n",
              "   (0008, 0100) Code Value                          SH: '113100'\n",
              "   (0008, 0102) Coding Scheme Designator            SH: 'DCM'\n",
              "   (0008, 0104) Code Meaning                        LO: 'Basic Application Confidentiality Profile'\n",
              "   ---------\n",
              "   (0008, 0100) Code Value                          SH: '113105'\n",
              "   (0008, 0102) Coding Scheme Designator            SH: 'DCM'\n",
              "   (0008, 0104) Code Meaning                        LO: 'Clean Descriptors Option'\n",
              "   ---------\n",
              "   (0008, 0100) Code Value                          SH: '113107'\n",
              "   (0008, 0102) Coding Scheme Designator            SH: 'DCM'\n",
              "   (0008, 0104) Code Meaning                        LO: 'Retain Longitudinal Temporal Information Modified Dates Option'\n",
              "   ---------\n",
              "   (0008, 0100) Code Value                          SH: '113108'\n",
              "   (0008, 0102) Coding Scheme Designator            SH: 'DCM'\n",
              "   (0008, 0104) Code Meaning                        LO: 'Retain Patient Characteristics Option'\n",
              "   ---------\n",
              "   (0008, 0100) Code Value                          SH: '113109'\n",
              "   (0008, 0102) Coding Scheme Designator            SH: 'DCM'\n",
              "   (0008, 0104) Code Meaning                        LO: 'Retain Device Identity Option'\n",
              "   ---------\n",
              "   (0008, 0100) Code Value                          SH: '11'\n",
              "   (0008, 0102) Coding Scheme Designator            SH: 'XNAT'\n",
              "   (0008, 0103) Coding Scheme Version               SH: '1.0'\n",
              "   (0008, 0104) Code Meaning                        LO: 'XNAT DicomEdit 4 Script'\n",
              "   ---------\n",
              "(0018, 0015) Body Part Examined                  CS: 'PORT CHEST'\n",
              "(0018, 1164) Imager Pixel Spacing                DS: [0.139, 0.139]\n",
              "(0020, 000d) Study Instance UID                  UI: cc127cda72f8\n",
              "(0020, 000e) Series Instance UID                 UI: 2282d21304fe\n",
              "(0020, 0010) Study ID                            SH: '55625fb42f3f'\n",
              "(0020, 0011) Series Number                       IS: \"3\"\n",
              "(0020, 0013) Instance Number                     IS: \"1\"\n",
              "(0028, 0002) Samples per Pixel                   US: 1\n",
              "(0028, 0004) Photometric Interpretation          CS: 'MONOCHROME2'\n",
              "(0028, 0010) Rows                                US: 2544\n",
              "(0028, 0011) Columns                             US: 3056\n",
              "(0028, 0100) Bits Allocated                      US: 16\n",
              "(0028, 0101) Bits Stored                         US: 12\n",
              "(0028, 0102) High Bit                            US: 11\n",
              "(0028, 0103) Pixel Representation                US: 0\n",
              "(7fe0, 0010) Pixel Data                          OW: Array of 15548928 elements"
            ]
          },
          "metadata": {
            "tags": []
          },
          "execution_count": 21
        }
      ]
    },
    {
      "cell_type": "markdown",
      "metadata": {
        "id": "WIT_ewR6dBNT"
      },
      "source": [
        "Some key pointers on dcm data above:(https://docs.fast.ai/tutorial.medical_imaging.html)\n",
        "\n",
        "\n",
        "1.   Pixel Data (7fe0 0010) - This is where the raw pixel data is stored. The order of pixels encoded for each image plane is left to right, top to bottom, i.e., the upper left pixel (labeled 1,1) is encoded first\n",
        "2.   Photometric Interpretation (0028, 0004) - also known as color space. In this case it is MONOCHROME2 where pixel data is represented as a single monochrome image plane where low values=dark, high values=bright. If the colorspace was MONOCHROME then the low values=bright and high values=dark info.\n",
        "3.  Samples per Pixel (0028, 0002) - This should be 1 as this image is monochrome. This value would be 3 if the color space was RGB for example\n",
        "4.   Bits Stored (0028 0101) - Number of bits stored for each pixel sample. Typical 8 bit images have a pixel range between 0 and 255\n",
        "5.   Pixel Represenation(0028 0103) - can either be unsigned(0) or signed(1)\n",
        "\n",
        "6.   Lossy Image Compression (0028 2110) - 00 image has not been subjected to lossy compression. 01 image has been subjected to lossy compression.\n",
        "7.   Lossy Image Compression Method (0028 2114) - states the type of lossy compression used (in this case ISO_10918_1 represents JPEG Lossy Compression)\n",
        "8. Pixel Data (7fe0, 0010) - Array of 161452 elements represents the image pixel data that pydicom uses to convert the pixel data into an image.  \n"
      ]
    },
    {
      "cell_type": "markdown",
      "metadata": {
        "id": "4cieF2bEfKcS"
      },
      "source": [
        "How does pixel data looks like?"
      ]
    },
    {
      "cell_type": "code",
      "metadata": {
        "colab": {
          "base_uri": "https://localhost:8080/"
        },
        "id": "z3g34cRT1Xkp",
        "outputId": "7edb5ac7-a529-42cd-ba4b-a10640e16301"
      },
      "source": [
        "train_sample.PixelData[:200]\n"
      ],
      "execution_count": null,
      "outputs": [
        {
          "output_type": "execute_result",
          "data": {
            "text/plain": [
              "b'\\x00\\x00\\x00\\x00\\x00\\x00\\x00\\x00W\\x00Z\\x00\\\\\\x00^\\x00_\\x00_\\x00_\\x00_\\x00_\\x00a\\x00e\\x00e\\x00c\\x00f\\x00c\\x00c\\x00e\\x00e\\x00i\\x00f\\x00j\\x00j\\x00h\\x00f\\x00i\\x00n\\x00l\\x00i\\x00j\\x00j\\x00m\\x00q\\x00o\\x00o\\x00p\\x00t\\x00q\\x00u\\x00t\\x00s\\x00t\\x00w\\x00v\\x00x\\x00v\\x00w\\x00w\\x00{\\x00~\\x00}\\x00z\\x00z\\x00~\\x00\\x81\\x00\\x83\\x00\\x80\\x00\\x80\\x00\\x80\\x00\\x80\\x00\\x82\\x00{\\x00\\x87\\x00\\x86\\x00\\x85\\x00\\x85\\x00\\x81\\x00\\x8a\\x00\\x85\\x00\\x87\\x00\\x89\\x00\\x8b\\x00\\x8d\\x00\\x8d\\x00\\x94\\x00\\x93\\x00\\x93\\x00\\x8b\\x00\\x8e\\x00\\x8c\\x00\\x91\\x00\\x96\\x00\\x97\\x00\\x91\\x00\\x92\\x00\\x96\\x00\\x9b\\x00\\x97\\x00\\xa0\\x00\\x9b\\x00\\x9b\\x00\\x9a\\x00\\x9b\\x00\\x99\\x00\\x99\\x00\\x9a\\x00\\x9e\\x00'"
            ]
          },
          "metadata": {
            "tags": []
          },
          "execution_count": 22
        }
      ]
    },
    {
      "cell_type": "markdown",
      "metadata": {
        "id": "oaA3vWdvfTub"
      },
      "source": [
        "Pixel data looks complex so pydicom converts it into a numpy array which can be later converted to be displayed as an image"
      ]
    },
    {
      "cell_type": "code",
      "metadata": {
        "colab": {
          "base_uri": "https://localhost:8080/"
        },
        "id": "0Sd7REPA1nf7",
        "outputId": "c6c13165-f706-4c53-9d3c-a8d0c569804b"
      },
      "source": [
        "\n",
        "train_sample.pixel_array, train_sample.pixel_array.shape\n"
      ],
      "execution_count": null,
      "outputs": [
        {
          "output_type": "execute_result",
          "data": {
            "text/plain": [
              "(array([[ 0,  0,  0, ..., 35, 35, 35],\n",
              "        [ 0,  0,  0, ..., 36, 36, 35],\n",
              "        [ 0,  0,  0, ..., 36, 37, 35],\n",
              "        ...,\n",
              "        [ 0,  0,  0, ...,  0,  0,  0],\n",
              "        [ 0,  0,  0, ...,  0,  0,  0],\n",
              "        [ 0,  0,  0, ...,  0,  0,  0]], dtype=uint16), (2544, 3056))"
            ]
          },
          "metadata": {
            "tags": []
          },
          "execution_count": 23
        }
      ]
    },
    {
      "cell_type": "code",
      "metadata": {
        "colab": {
          "base_uri": "https://localhost:8080/",
          "height": 263
        },
        "id": "8aERS9X7306H",
        "outputId": "2093d2f5-be5e-4cb7-d3ba-2fb38365decb"
      },
      "source": [
        "train_sample.show()"
      ],
      "execution_count": null,
      "outputs": [
        {
          "output_type": "display_data",
          "data": {
            "image/png": "[encoded data removed]",
            "text/plain": [
              "<Figure size 360x360 with 1 Axes>"
            ]
          },
          "metadata": {
            "tags": [],
            "needs_background": "light"
          }
        }
      ]
    },
    {
      "cell_type": "markdown",
      "metadata": {
        "id": "c0WKfH5sgKAT"
      },
      "source": [
        "Now, we will create a dataframe that contains all the tag imformation from the train folder dicom images."
      ]
    },
    {
      "cell_type": "code",
      "metadata": {
        "id": "X_ZkPs6D4D5N"
      },
      "source": [
        "#this code is used to extract the metadat from dcm file and it is saved as .csv file for train and test dataset\n",
        "#train_dicom_dataframe = pd.DataFrame.from_dicoms(items)\n",
        "#train_dicom_dataframe[:5]"
      ],
      "execution_count": null,
      "outputs": []
    },
    {
      "cell_type": "markdown",
      "metadata": {
        "id": "aZWWIIokHxY8"
      },
      "source": [
        "Extracting train and test dicom metadata from the saved .csv files"
      ]
    },
    {
      "cell_type": "code",
      "metadata": {
        "id": "vBsEc_liBKJ9"
      },
      "source": [
        "train_dicom_dataframe = pd.read_csv('dicom_dataframe.csv')\n",
        "test_dicom_dataframe = pd.read_csv('test_dataframe.csv')\n"
      ],
      "execution_count": null,
      "outputs": []
    },
    {
      "cell_type": "code",
      "metadata": {
        "colab": {
          "base_uri": "https://localhost:8080/",
          "height": 666
        },
        "id": "bStgEKGQkwOZ",
        "outputId": "4d3f6690-632b-4199-9517-d97610c39dfb"
      },
      "source": [
        "train_dicom_dataframe.head()"
      ],
      "execution_count": null,
      "outputs": [
        {
          "output_type": "execute_result",
          "data": {
            "text/html": [
              "<div>\n",
              "<style scoped>\n",
              "    .dataframe tbody tr th:only-of-type {\n",
              "        vertical-align: middle;\n",
              "    }\n",
              "\n",
              "    .dataframe tbody tr th {\n",
              "        vertical-align: top;\n",
              "    }\n",
              "\n",
              "    .dataframe thead th {\n",
              "        text-align: right;\n",
              "    }\n",
              "</style>\n",
              "<table border=\"1\" class=\"dataframe\">\n",
              "  <thead>\n",
              "    <tr style=\"text-align: right;\">\n",
              "      <th></th>\n",
              "      <th>Unnamed: 0</th>\n",
              "      <th>SpecificCharacterSet</th>\n",
              "      <th>ImageType</th>\n",
              "      <th>SOPClassUID</th>\n",
              "      <th>SOPInstanceUID</th>\n",
              "      <th>StudyDate</th>\n",
              "      <th>StudyTime</th>\n",
              "      <th>AccessionNumber</th>\n",
              "      <th>Modality</th>\n",
              "      <th>PatientName</th>\n",
              "      <th>PatientID</th>\n",
              "      <th>PatientSex</th>\n",
              "      <th>DeidentificationMethod</th>\n",
              "      <th>DeidentificationMethodCodeSequence</th>\n",
              "      <th>BodyPartExamined</th>\n",
              "      <th>ImagerPixelSpacing</th>\n",
              "      <th>StudyInstanceUID</th>\n",
              "      <th>SeriesInstanceUID</th>\n",
              "      <th>StudyID</th>\n",
              "      <th>SeriesNumber</th>\n",
              "      <th>InstanceNumber</th>\n",
              "      <th>SamplesPerPixel</th>\n",
              "      <th>PhotometricInterpretation</th>\n",
              "      <th>Rows</th>\n",
              "      <th>Columns</th>\n",
              "      <th>BitsAllocated</th>\n",
              "      <th>BitsStored</th>\n",
              "      <th>HighBit</th>\n",
              "      <th>PixelRepresentation</th>\n",
              "      <th>fname</th>\n",
              "      <th>MultiImageType</th>\n",
              "      <th>ImageType1</th>\n",
              "      <th>MultiDeidentificationMethodCodeSequence</th>\n",
              "      <th>DeidentificationMethodCodeSequence1</th>\n",
              "      <th>DeidentificationMethodCodeSequence2</th>\n",
              "      <th>DeidentificationMethodCodeSequence3</th>\n",
              "      <th>DeidentificationMethodCodeSequence4</th>\n",
              "      <th>DeidentificationMethodCodeSequence5</th>\n",
              "      <th>MultiImagerPixelSpacing</th>\n",
              "      <th>ImagerPixelSpacing1</th>\n",
              "      <th>img_min</th>\n",
              "      <th>img_max</th>\n",
              "      <th>img_mean</th>\n",
              "      <th>img_std</th>\n",
              "      <th>img_pct_window</th>\n",
              "      <th>ImageType2</th>\n",
              "      <th>Unnamed: 46</th>\n",
              "      <th>ImageType3</th>\n",
              "      <th>ImageType4</th>\n",
              "      <th>ImageType5</th>\n",
              "      <th>ImageType6</th>\n",
              "      <th>ImageType7</th>\n",
              "      <th>ImageType8</th>\n",
              "    </tr>\n",
              "  </thead>\n",
              "  <tbody>\n",
              "    <tr>\n",
              "      <th>0</th>\n",
              "      <td>0</td>\n",
              "      <td>ISO_IR 100</td>\n",
              "      <td>ORIGINAL</td>\n",
              "      <td>03a65300fa41</td>\n",
              "      <td>9bc4d429d4e8</td>\n",
              "      <td>dc55a60f03c6</td>\n",
              "      <td>0b887f128603</td>\n",
              "      <td>0609c2760cf3</td>\n",
              "      <td>CR</td>\n",
              "      <td>cc5c2ee2f7af</td>\n",
              "      <td>cc5c2ee2f7af</td>\n",
              "      <td>F</td>\n",
              "      <td>CTP Default</td>\n",
              "      <td>{(0008, 0100): (0008, 0100) Code Value                          SH: '3', (0008, 0102): (0008, 0102) Coding Scheme Designator            SH: 'XNAT', (0008, 0103): (0008, 0103) Coding Scheme Version               SH: '1.0', (0008, 0104): (0008, 0104) Code Meaning                        LO: 'XNAT DicomEdit 6 Script'}</td>\n",
              "      <td>CHEST</td>\n",
              "      <td>0.100000</td>\n",
              "      <td>fa6d3b56e333</td>\n",
              "      <td>27ad48d6bd2d</td>\n",
              "      <td>5f5361b32eff</td>\n",
              "      <td>1.0</td>\n",
              "      <td>1.0</td>\n",
              "      <td>1</td>\n",
              "      <td>MONOCHROME2</td>\n",
              "      <td>3480</td>\n",
              "      <td>4240</td>\n",
              "      <td>8</td>\n",
              "      <td>8</td>\n",
              "      <td>7</td>\n",
              "      <td>0</td>\n",
              "      <td>/content/drive/My Drive/kaggle-CoVID-shared/dataset/train/fa6d3b56e333/27ad48d6bd2d/9bc4d429d4e8.dcm</td>\n",
              "      <td>1.0</td>\n",
              "      <td>PRIMARY</td>\n",
              "      <td>1</td>\n",
              "      <td>{(0008, 0100): (0008, 0100) Code Value                          SH: '113100', (0008, 0102): (0008, 0102) Coding Scheme Designator            SH: 'DCM', (0008, 0104): (0008, 0104) Code Meaning                        LO: 'Basic Application Confidentiality Profile'}</td>\n",
              "      <td>{(0008, 0100): (0008, 0100) Code Value                          SH: '113105', (0008, 0102): (0008, 0102) Coding Scheme Designator            SH: 'DCM', (0008, 0104): (0008, 0104) Code Meaning                        LO: 'Clean Descriptors Option'}</td>\n",
              "      <td>{(0008, 0100): (0008, 0100) Code Value                          SH: '113107', (0008, 0102): (0008, 0102) Coding Scheme Designator            SH: 'DCM', (0008, 0104): (0008, 0104) Code Meaning                        LO: 'Retain Longitudinal Temporal Information Modified Dates Option'}</td>\n",
              "      <td>{(0008, 0100): (0008, 0100) Code Value                          SH: '113108', (0008, 0102): (0008, 0102) Coding Scheme Designator            SH: 'DCM', (0008, 0104): (0008, 0104) Code Meaning                        LO: 'Retain Patient Characteristics Option'}</td>\n",
              "      <td>{(0008, 0100): (0008, 0100) Code Value                          SH: '113109', (0008, 0102): (0008, 0102) Coding Scheme Designator            SH: 'DCM', (0008, 0104): (0008, 0104) Code Meaning                        LO: 'Retain Device Identity Option'}</td>\n",
              "      <td>1</td>\n",
              "      <td>0.100000</td>\n",
              "      <td>0</td>\n",
              "      <td>255</td>\n",
              "      <td>108.365861</td>\n",
              "      <td>49.982352</td>\n",
              "      <td>0.741705</td>\n",
              "      <td>NaN</td>\n",
              "      <td>NaN</td>\n",
              "      <td>NaN</td>\n",
              "      <td>NaN</td>\n",
              "      <td>NaN</td>\n",
              "      <td>NaN</td>\n",
              "      <td>NaN</td>\n",
              "      <td>NaN</td>\n",
              "    </tr>\n",
              "    <tr>\n",
              "      <th>1</th>\n",
              "      <td>1</td>\n",
              "      <td>ISO_IR 100</td>\n",
              "      <td>ORIGINAL</td>\n",
              "      <td>71228e4340de</td>\n",
              "      <td>78753bfe52b2</td>\n",
              "      <td>364e93fa20e4</td>\n",
              "      <td>d67e5ca0c8b5</td>\n",
              "      <td>3e14ddd035dc</td>\n",
              "      <td>DX</td>\n",
              "      <td>6110bb774cc7</td>\n",
              "      <td>f1eb548b0d4e</td>\n",
              "      <td>F</td>\n",
              "      <td>CTP Default:  based on DICOM PS3.15 AnnexE. Details in 0012,0064</td>\n",
              "      <td>{(0008, 0100): (0008, 0100) Code Value                          SH: '113100', (0008, 0102): (0008, 0102) Coding Scheme Designator            SH: 'DCM', (0008, 0104): (0008, 0104) Code Meaning                        LO: 'Basic Application Confidentiality Profile'}</td>\n",
              "      <td>CHEST</td>\n",
              "      <td>0.100000</td>\n",
              "      <td>7dbc098b8eaf</td>\n",
              "      <td>21b49419d829</td>\n",
              "      <td>55625fb42f3f</td>\n",
              "      <td>1.0</td>\n",
              "      <td>2.0</td>\n",
              "      <td>1</td>\n",
              "      <td>MONOCHROME2</td>\n",
              "      <td>3488</td>\n",
              "      <td>4256</td>\n",
              "      <td>16</td>\n",
              "      <td>12</td>\n",
              "      <td>11</td>\n",
              "      <td>0</td>\n",
              "      <td>/content/drive/My Drive/kaggle-CoVID-shared/dataset/train/7dbc098b8eaf/21b49419d829/78753bfe52b2.dcm</td>\n",
              "      <td>1.0</td>\n",
              "      <td>PRIMARY</td>\n",
              "      <td>1</td>\n",
              "      <td>{(0008, 0100): (0008, 0100) Code Value                          SH: '113105', (0008, 0102): (0008, 0102) Coding Scheme Designator            SH: 'DCM', (0008, 0104): (0008, 0104) Code Meaning                        LO: 'Clean Descriptors Option'}</td>\n",
              "      <td>{(0008, 0100): (0008, 0100) Code Value                          SH: '113107', (0008, 0102): (0008, 0102) Coding Scheme Designator            SH: 'DCM', (0008, 0104): (0008, 0104) Code Meaning                        LO: 'Retain Longitudinal Temporal Information Modified Dates Option'}</td>\n",
              "      <td>{(0008, 0100): (0008, 0100) Code Value                          SH: '113108', (0008, 0102): (0008, 0102) Coding Scheme Designator            SH: 'DCM', (0008, 0104): (0008, 0104) Code Meaning                        LO: 'Retain Patient Characteristics Option'}</td>\n",
              "      <td>{(0008, 0100): (0008, 0100) Code Value                          SH: '113109', (0008, 0102): (0008, 0102) Coding Scheme Designator            SH: 'DCM', (0008, 0104): (0008, 0104) Code Meaning                        LO: 'Retain Device Identity Option'}</td>\n",
              "      <td>{(0008, 0100): (0008, 0100) Code Value                          SH: '11', (0008, 0102): (0008, 0102) Coding Scheme Designator            SH: 'XNAT', (0008, 0103): (0008, 0103) Coding Scheme Version               SH: '1.0', (0008, 0104): (0008, 0104) Code Meaning                        LO: 'XNAT DicomEdit 4 Script'}</td>\n",
              "      <td>1</td>\n",
              "      <td>0.100000</td>\n",
              "      <td>0</td>\n",
              "      <td>4031</td>\n",
              "      <td>2220.309248</td>\n",
              "      <td>1018.606841</td>\n",
              "      <td>0.105840</td>\n",
              "      <td>NaN</td>\n",
              "      <td>NaN</td>\n",
              "      <td>NaN</td>\n",
              "      <td>NaN</td>\n",
              "      <td>NaN</td>\n",
              "      <td>NaN</td>\n",
              "      <td>NaN</td>\n",
              "      <td>NaN</td>\n",
              "    </tr>\n",
              "    <tr>\n",
              "      <th>2</th>\n",
              "      <td>2</td>\n",
              "      <td>ISO_IR 100</td>\n",
              "      <td>ORIGINAL</td>\n",
              "      <td>71228e4340de</td>\n",
              "      <td>0811fe666ab0</td>\n",
              "      <td>8d2657d32869</td>\n",
              "      <td>b4f42854f4a2</td>\n",
              "      <td>97b67fdbfe4b</td>\n",
              "      <td>DX</td>\n",
              "      <td>3a15d73dffa3</td>\n",
              "      <td>f2522fc67e19</td>\n",
              "      <td>M</td>\n",
              "      <td>CTP Default:  based on DICOM PS3.15 AnnexE. Details in 0012,0064</td>\n",
              "      <td>{(0008, 0100): (0008, 0100) Code Value                          SH: '113100', (0008, 0102): (0008, 0102) Coding Scheme Designator            SH: 'DCM', (0008, 0104): (0008, 0104) Code Meaning                        LO: 'Basic Application Confidentiality Profile'}</td>\n",
              "      <td>CHEST</td>\n",
              "      <td>0.125000</td>\n",
              "      <td>20a86e21402f</td>\n",
              "      <td>637b252e991f</td>\n",
              "      <td>55625fb42f3f</td>\n",
              "      <td>1.0</td>\n",
              "      <td>1.0</td>\n",
              "      <td>1</td>\n",
              "      <td>MONOCHROME1</td>\n",
              "      <td>2800</td>\n",
              "      <td>3408</td>\n",
              "      <td>16</td>\n",
              "      <td>15</td>\n",
              "      <td>14</td>\n",
              "      <td>0</td>\n",
              "      <td>/content/drive/My Drive/kaggle-CoVID-shared/dataset/train/20a86e21402f/637b252e991f/0811fe666ab0.dcm</td>\n",
              "      <td>1.0</td>\n",
              "      <td>PRIMARY</td>\n",
              "      <td>1</td>\n",
              "      <td>{(0008, 0100): (0008, 0100) Code Value                          SH: '113105', (0008, 0102): (0008, 0102) Coding Scheme Designator            SH: 'DCM', (0008, 0104): (0008, 0104) Code Meaning                        LO: 'Clean Descriptors Option'}</td>\n",
              "      <td>{(0008, 0100): (0008, 0100) Code Value                          SH: '113107', (0008, 0102): (0008, 0102) Coding Scheme Designator            SH: 'DCM', (0008, 0104): (0008, 0104) Code Meaning                        LO: 'Retain Longitudinal Temporal Information Modified Dates Option'}</td>\n",
              "      <td>{(0008, 0100): (0008, 0100) Code Value                          SH: '113108', (0008, 0102): (0008, 0102) Coding Scheme Designator            SH: 'DCM', (0008, 0104): (0008, 0104) Code Meaning                        LO: 'Retain Patient Characteristics Option'}</td>\n",
              "      <td>{(0008, 0100): (0008, 0100) Code Value                          SH: '113109', (0008, 0102): (0008, 0102) Coding Scheme Designator            SH: 'DCM', (0008, 0104): (0008, 0104) Code Meaning                        LO: 'Retain Device Identity Option'}</td>\n",
              "      <td>{(0008, 0100): (0008, 0100) Code Value                          SH: '11', (0008, 0102): (0008, 0102) Coding Scheme Designator            SH: 'XNAT', (0008, 0103): (0008, 0103) Coding Scheme Version               SH: '1.0', (0008, 0104): (0008, 0104) Code Meaning                        LO: 'XNAT DicomEdit 4 Script'}</td>\n",
              "      <td>1</td>\n",
              "      <td>0.125000</td>\n",
              "      <td>1</td>\n",
              "      <td>26550</td>\n",
              "      <td>15725.637202</td>\n",
              "      <td>2737.409528</td>\n",
              "      <td>0.000293</td>\n",
              "      <td>NaN</td>\n",
              "      <td>NaN</td>\n",
              "      <td>NaN</td>\n",
              "      <td>NaN</td>\n",
              "      <td>NaN</td>\n",
              "      <td>NaN</td>\n",
              "      <td>NaN</td>\n",
              "      <td>NaN</td>\n",
              "    </tr>\n",
              "    <tr>\n",
              "      <th>3</th>\n",
              "      <td>3</td>\n",
              "      <td>ISO_IR 100</td>\n",
              "      <td>ORIGINAL</td>\n",
              "      <td>03a65300fa41</td>\n",
              "      <td>39d186c9ff9c</td>\n",
              "      <td>7c8d2802c221</td>\n",
              "      <td>19b7c814e954</td>\n",
              "      <td>2ff550d3292d</td>\n",
              "      <td>CR</td>\n",
              "      <td>ff78a810a3b1</td>\n",
              "      <td>bd317c28186c</td>\n",
              "      <td>M</td>\n",
              "      <td>CTP Default:  based on DICOM PS3.15 AnnexE. Details in 0012,0064</td>\n",
              "      <td>{(0008, 0100): (0008, 0100) Code Value                          SH: '113100', (0008, 0102): (0008, 0102) Coding Scheme Designator            SH: 'DCM', (0008, 0104): (0008, 0104) Code Meaning                        LO: 'Basic Application Confidentiality Profile'}</td>\n",
              "      <td>CHEST</td>\n",
              "      <td>0.143000</td>\n",
              "      <td>b1c31c1e103a</td>\n",
              "      <td>ccfd2e441885</td>\n",
              "      <td>55625fb42f3f</td>\n",
              "      <td>1.0</td>\n",
              "      <td>1.0</td>\n",
              "      <td>1</td>\n",
              "      <td>MONOCHROME2</td>\n",
              "      <td>2901</td>\n",
              "      <td>2416</td>\n",
              "      <td>16</td>\n",
              "      <td>12</td>\n",
              "      <td>11</td>\n",
              "      <td>0</td>\n",
              "      <td>/content/drive/My Drive/kaggle-CoVID-shared/dataset/train/b1c31c1e103a/ccfd2e441885/39d186c9ff9c.dcm</td>\n",
              "      <td>1.0</td>\n",
              "      <td>PRIMARY</td>\n",
              "      <td>1</td>\n",
              "      <td>{(0008, 0100): (0008, 0100) Code Value                          SH: '113105', (0008, 0102): (0008, 0102) Coding Scheme Designator            SH: 'DCM', (0008, 0104): (0008, 0104) Code Meaning                        LO: 'Clean Descriptors Option'}</td>\n",
              "      <td>{(0008, 0100): (0008, 0100) Code Value                          SH: '113107', (0008, 0102): (0008, 0102) Coding Scheme Designator            SH: 'DCM', (0008, 0104): (0008, 0104) Code Meaning                        LO: 'Retain Longitudinal Temporal Information Modified Dates Option'}</td>\n",
              "      <td>{(0008, 0100): (0008, 0100) Code Value                          SH: '113108', (0008, 0102): (0008, 0102) Coding Scheme Designator            SH: 'DCM', (0008, 0104): (0008, 0104) Code Meaning                        LO: 'Retain Patient Characteristics Option'}</td>\n",
              "      <td>{(0008, 0100): (0008, 0100) Code Value                          SH: '113109', (0008, 0102): (0008, 0102) Coding Scheme Designator            SH: 'DCM', (0008, 0104): (0008, 0104) Code Meaning                        LO: 'Retain Device Identity Option'}</td>\n",
              "      <td>{(0008, 0100): (0008, 0100) Code Value                          SH: '11', (0008, 0102): (0008, 0102) Coding Scheme Designator            SH: 'XNAT', (0008, 0103): (0008, 0103) Coding Scheme Version               SH: '1.0', (0008, 0104): (0008, 0104) Code Meaning                        LO: 'XNAT DicomEdit 4 Script'}</td>\n",
              "      <td>1</td>\n",
              "      <td>0.143000</td>\n",
              "      <td>0</td>\n",
              "      <td>4095</td>\n",
              "      <td>2229.260421</td>\n",
              "      <td>811.378264</td>\n",
              "      <td>0.010039</td>\n",
              "      <td>NaN</td>\n",
              "      <td>NaN</td>\n",
              "      <td>NaN</td>\n",
              "      <td>NaN</td>\n",
              "      <td>NaN</td>\n",
              "      <td>NaN</td>\n",
              "      <td>NaN</td>\n",
              "      <td>NaN</td>\n",
              "    </tr>\n",
              "    <tr>\n",
              "      <th>4</th>\n",
              "      <td>4</td>\n",
              "      <td>ISO_IR 100</td>\n",
              "      <td>ORIGINAL</td>\n",
              "      <td>03a65300fa41</td>\n",
              "      <td>1ce01f7fdb1c</td>\n",
              "      <td>8bcb51dc88e4</td>\n",
              "      <td>e63fd333ebd9</td>\n",
              "      <td>bf2a5c4baee9</td>\n",
              "      <td>CR</td>\n",
              "      <td>689ce2c627cc</td>\n",
              "      <td>38294c28a745</td>\n",
              "      <td>F</td>\n",
              "      <td>CTP Default:  based on DICOM PS3.15 AnnexE. Details in 0012,0064</td>\n",
              "      <td>{(0008, 0100): (0008, 0100) Code Value                          SH: '113100', (0008, 0102): (0008, 0102) Coding Scheme Designator            SH: 'DCM', (0008, 0104): (0008, 0104) Code Meaning                        LO: 'Basic Application Confidentiality Profile'}</td>\n",
              "      <td>CHEST</td>\n",
              "      <td>0.308553</td>\n",
              "      <td>e395615a9a0d</td>\n",
              "      <td>a62d7707e47f</td>\n",
              "      <td>55625fb42f3f</td>\n",
              "      <td>1.0</td>\n",
              "      <td>1.0</td>\n",
              "      <td>1</td>\n",
              "      <td>MONOCHROME2</td>\n",
              "      <td>1140</td>\n",
              "      <td>1387</td>\n",
              "      <td>16</td>\n",
              "      <td>12</td>\n",
              "      <td>11</td>\n",
              "      <td>0</td>\n",
              "      <td>/content/drive/My Drive/kaggle-CoVID-shared/dataset/train/e395615a9a0d/a62d7707e47f/1ce01f7fdb1c.dcm</td>\n",
              "      <td>1.0</td>\n",
              "      <td>PRIMARY</td>\n",
              "      <td>1</td>\n",
              "      <td>{(0008, 0100): (0008, 0100) Code Value                          SH: '113105', (0008, 0102): (0008, 0102) Coding Scheme Designator            SH: 'DCM', (0008, 0104): (0008, 0104) Code Meaning                        LO: 'Clean Descriptors Option'}</td>\n",
              "      <td>{(0008, 0100): (0008, 0100) Code Value                          SH: '113107', (0008, 0102): (0008, 0102) Coding Scheme Designator            SH: 'DCM', (0008, 0104): (0008, 0104) Code Meaning                        LO: 'Retain Longitudinal Temporal Information Modified Dates Option'}</td>\n",
              "      <td>{(0008, 0100): (0008, 0100) Code Value                          SH: '113108', (0008, 0102): (0008, 0102) Coding Scheme Designator            SH: 'DCM', (0008, 0104): (0008, 0104) Code Meaning                        LO: 'Retain Patient Characteristics Option'}</td>\n",
              "      <td>{(0008, 0100): (0008, 0100) Code Value                          SH: '113109', (0008, 0102): (0008, 0102) Coding Scheme Designator            SH: 'DCM', (0008, 0104): (0008, 0104) Code Meaning                        LO: 'Retain Device Identity Option'}</td>\n",
              "      <td>{(0008, 0100): (0008, 0100) Code Value                          SH: '11', (0008, 0102): (0008, 0102) Coding Scheme Designator            SH: 'XNAT', (0008, 0103): (0008, 0103) Coding Scheme Version               SH: '1.0', (0008, 0104): (0008, 0104) Code Meaning                        LO: 'XNAT DicomEdit 4 Script'}</td>\n",
              "      <td>1</td>\n",
              "      <td>0.308553</td>\n",
              "      <td>0</td>\n",
              "      <td>4095</td>\n",
              "      <td>2304.403985</td>\n",
              "      <td>1327.401088</td>\n",
              "      <td>0.145677</td>\n",
              "      <td>NaN</td>\n",
              "      <td>NaN</td>\n",
              "      <td>NaN</td>\n",
              "      <td>NaN</td>\n",
              "      <td>NaN</td>\n",
              "      <td>NaN</td>\n",
              "      <td>NaN</td>\n",
              "      <td>NaN</td>\n",
              "    </tr>\n",
              "  </tbody>\n",
              "</table>\n",
              "</div>"
            ],
            "text/plain": [
              "   Unnamed: 0 SpecificCharacterSet  ... ImageType7 ImageType8\n",
              "0           0           ISO_IR 100  ...        NaN        NaN\n",
              "1           1           ISO_IR 100  ...        NaN        NaN\n",
              "2           2           ISO_IR 100  ...        NaN        NaN\n",
              "3           3           ISO_IR 100  ...        NaN        NaN\n",
              "4           4           ISO_IR 100  ...        NaN        NaN\n",
              "\n",
              "[5 rows x 53 columns]"
            ]
          },
          "metadata": {
            "tags": []
          },
          "execution_count": 30
        }
      ]
    },
    {
      "cell_type": "code",
      "metadata": {
        "colab": {
          "base_uri": "https://localhost:8080/",
          "height": 666
        },
        "id": "vL7Ef-A1m6_E",
        "outputId": "b96322ea-7c04-4455-f88a-fb13a5633093"
      },
      "source": [
        "test_dicom_dataframe.head()"
      ],
      "execution_count": null,
      "outputs": [
        {
          "output_type": "execute_result",
          "data": {
            "text/html": [
              "<div>\n",
              "<style scoped>\n",
              "    .dataframe tbody tr th:only-of-type {\n",
              "        vertical-align: middle;\n",
              "    }\n",
              "\n",
              "    .dataframe tbody tr th {\n",
              "        vertical-align: top;\n",
              "    }\n",
              "\n",
              "    .dataframe thead th {\n",
              "        text-align: right;\n",
              "    }\n",
              "</style>\n",
              "<table border=\"1\" class=\"dataframe\">\n",
              "  <thead>\n",
              "    <tr style=\"text-align: right;\">\n",
              "      <th></th>\n",
              "      <th>Unnamed: 0</th>\n",
              "      <th>SpecificCharacterSet</th>\n",
              "      <th>ImageType</th>\n",
              "      <th>SOPClassUID</th>\n",
              "      <th>SOPInstanceUID</th>\n",
              "      <th>StudyDate</th>\n",
              "      <th>StudyTime</th>\n",
              "      <th>AccessionNumber</th>\n",
              "      <th>Modality</th>\n",
              "      <th>PatientName</th>\n",
              "      <th>PatientID</th>\n",
              "      <th>PatientSex</th>\n",
              "      <th>DeidentificationMethod</th>\n",
              "      <th>DeidentificationMethodCodeSequence</th>\n",
              "      <th>BodyPartExamined</th>\n",
              "      <th>ImagerPixelSpacing</th>\n",
              "      <th>StudyInstanceUID</th>\n",
              "      <th>SeriesInstanceUID</th>\n",
              "      <th>StudyID</th>\n",
              "      <th>SeriesNumber</th>\n",
              "      <th>InstanceNumber</th>\n",
              "      <th>SamplesPerPixel</th>\n",
              "      <th>PhotometricInterpretation</th>\n",
              "      <th>Rows</th>\n",
              "      <th>Columns</th>\n",
              "      <th>BitsAllocated</th>\n",
              "      <th>BitsStored</th>\n",
              "      <th>HighBit</th>\n",
              "      <th>PixelRepresentation</th>\n",
              "      <th>fname</th>\n",
              "      <th>MultiImageType</th>\n",
              "      <th>ImageType1</th>\n",
              "      <th>MultiDeidentificationMethodCodeSequence</th>\n",
              "      <th>DeidentificationMethodCodeSequence1</th>\n",
              "      <th>DeidentificationMethodCodeSequence2</th>\n",
              "      <th>DeidentificationMethodCodeSequence3</th>\n",
              "      <th>DeidentificationMethodCodeSequence4</th>\n",
              "      <th>DeidentificationMethodCodeSequence5</th>\n",
              "      <th>MultiImagerPixelSpacing</th>\n",
              "      <th>ImagerPixelSpacing1</th>\n",
              "      <th>img_min</th>\n",
              "      <th>img_max</th>\n",
              "      <th>img_mean</th>\n",
              "      <th>img_std</th>\n",
              "      <th>img_pct_window</th>\n",
              "      <th>Unnamed: 45</th>\n",
              "      <th>ImageType2</th>\n",
              "      <th>ImageType3</th>\n",
              "      <th>ImageType4</th>\n",
              "      <th>ImageType5</th>\n",
              "      <th>ImageType6</th>\n",
              "      <th>ImageType7</th>\n",
              "      <th>ImageType8</th>\n",
              "    </tr>\n",
              "  </thead>\n",
              "  <tbody>\n",
              "    <tr>\n",
              "      <th>0</th>\n",
              "      <td>0</td>\n",
              "      <td>ISO_IR 100</td>\n",
              "      <td>DERIVED</td>\n",
              "      <td>71228e4340de</td>\n",
              "      <td>366e7eb393e5</td>\n",
              "      <td>f54f397a9908</td>\n",
              "      <td>68021cce4248</td>\n",
              "      <td>607034742b6a</td>\n",
              "      <td>DX</td>\n",
              "      <td>e57c02f767f1</td>\n",
              "      <td>2d161a6004fe</td>\n",
              "      <td>F</td>\n",
              "      <td>CTP Default:  based on DICOM PS3.15 AnnexE. Details in 0012,0064</td>\n",
              "      <td>{(0008, 0100): (0008, 0100) Code Value                          SH: '113100', (0008, 0102): (0008, 0102) Coding Scheme Designator            SH: 'DCM', (0008, 0104): (0008, 0104) Code Meaning                        LO: 'Basic Application Confidentiality Profile'}</td>\n",
              "      <td>CHEST</td>\n",
              "      <td>0.1390</td>\n",
              "      <td>e8d137c213a0</td>\n",
              "      <td>194bc96e3aea</td>\n",
              "      <td>55625fb42f3f</td>\n",
              "      <td>NaN</td>\n",
              "      <td>NaN</td>\n",
              "      <td>1</td>\n",
              "      <td>MONOCHROME1</td>\n",
              "      <td>3198</td>\n",
              "      <td>3056</td>\n",
              "      <td>16</td>\n",
              "      <td>16</td>\n",
              "      <td>15</td>\n",
              "      <td>0</td>\n",
              "      <td>/content/drive/My Drive/kaggle-CoVID-shared/dataset/test/e8d137c213a0/194bc96e3aea/366e7eb393e5.dcm</td>\n",
              "      <td>1.0</td>\n",
              "      <td>PRIMARY</td>\n",
              "      <td>1</td>\n",
              "      <td>{(0008, 0100): (0008, 0100) Code Value                          SH: '113105', (0008, 0102): (0008, 0102) Coding Scheme Designator            SH: 'DCM', (0008, 0104): (0008, 0104) Code Meaning                        LO: 'Clean Descriptors Option'}</td>\n",
              "      <td>{(0008, 0100): (0008, 0100) Code Value                          SH: '113107', (0008, 0102): (0008, 0102) Coding Scheme Designator            SH: 'DCM', (0008, 0104): (0008, 0104) Code Meaning                        LO: 'Retain Longitudinal Temporal Information Modified Dates Option'}</td>\n",
              "      <td>{(0008, 0100): (0008, 0100) Code Value                          SH: '113108', (0008, 0102): (0008, 0102) Coding Scheme Designator            SH: 'DCM', (0008, 0104): (0008, 0104) Code Meaning                        LO: 'Retain Patient Characteristics Option'}</td>\n",
              "      <td>{(0008, 0100): (0008, 0100) Code Value                          SH: '113109', (0008, 0102): (0008, 0102) Coding Scheme Designator            SH: 'DCM', (0008, 0104): (0008, 0104) Code Meaning                        LO: 'Retain Device Identity Option'}</td>\n",
              "      <td>{(0008, 0100): (0008, 0100) Code Value                          SH: '11', (0008, 0102): (0008, 0102) Coding Scheme Designator            SH: 'XNAT', (0008, 0103): (0008, 0103) Coding Scheme Version               SH: '1.0', (0008, 0104): (0008, 0104) Code Meaning                        LO: 'XNAT DicomEdit 4 Script'}</td>\n",
              "      <td>1</td>\n",
              "      <td>0.1390</td>\n",
              "      <td>0</td>\n",
              "      <td>65535</td>\n",
              "      <td>2000.306954</td>\n",
              "      <td>1959.936723</td>\n",
              "      <td>0.043777</td>\n",
              "      <td>NaN</td>\n",
              "      <td>NaN</td>\n",
              "      <td>NaN</td>\n",
              "      <td>NaN</td>\n",
              "      <td>NaN</td>\n",
              "      <td>NaN</td>\n",
              "      <td>NaN</td>\n",
              "      <td>NaN</td>\n",
              "    </tr>\n",
              "    <tr>\n",
              "      <th>1</th>\n",
              "      <td>1</td>\n",
              "      <td>ISO_IR 100</td>\n",
              "      <td>ORIGINAL</td>\n",
              "      <td>03a65300fa41</td>\n",
              "      <td>8b354d4a216f</td>\n",
              "      <td>fc2ebaadcbf5</td>\n",
              "      <td>a3b8f1965481</td>\n",
              "      <td>14e08bf44abf</td>\n",
              "      <td>CR</td>\n",
              "      <td>fd48a2a27bff</td>\n",
              "      <td>6ee7b3dfaba5</td>\n",
              "      <td>M</td>\n",
              "      <td>CTP Default:  based on DICOM PS3.15 AnnexE. Details in 0012,0064</td>\n",
              "      <td>{(0008, 0100): (0008, 0100) Code Value                          SH: '113100', (0008, 0102): (0008, 0102) Coding Scheme Designator            SH: 'DCM', (0008, 0104): (0008, 0104) Code Meaning                        LO: 'Basic Application Confidentiality Profile'}</td>\n",
              "      <td>CHEST</td>\n",
              "      <td>0.1000</td>\n",
              "      <td>14be2e12c7cf</td>\n",
              "      <td>8f78c9da835d</td>\n",
              "      <td>55625fb42f3f</td>\n",
              "      <td>1.0</td>\n",
              "      <td>1.0</td>\n",
              "      <td>1</td>\n",
              "      <td>MONOCHROME2</td>\n",
              "      <td>3480</td>\n",
              "      <td>4240</td>\n",
              "      <td>16</td>\n",
              "      <td>12</td>\n",
              "      <td>11</td>\n",
              "      <td>0</td>\n",
              "      <td>/content/drive/My Drive/kaggle-CoVID-shared/dataset/test/14be2e12c7cf/8f78c9da835d/8b354d4a216f.dcm</td>\n",
              "      <td>1.0</td>\n",
              "      <td>PRIMARY</td>\n",
              "      <td>1</td>\n",
              "      <td>{(0008, 0100): (0008, 0100) Code Value                          SH: '113105', (0008, 0102): (0008, 0102) Coding Scheme Designator            SH: 'DCM', (0008, 0104): (0008, 0104) Code Meaning                        LO: 'Clean Descriptors Option'}</td>\n",
              "      <td>{(0008, 0100): (0008, 0100) Code Value                          SH: '113107', (0008, 0102): (0008, 0102) Coding Scheme Designator            SH: 'DCM', (0008, 0104): (0008, 0104) Code Meaning                        LO: 'Retain Longitudinal Temporal Information Modified Dates Option'}</td>\n",
              "      <td>{(0008, 0100): (0008, 0100) Code Value                          SH: '113108', (0008, 0102): (0008, 0102) Coding Scheme Designator            SH: 'DCM', (0008, 0104): (0008, 0104) Code Meaning                        LO: 'Retain Patient Characteristics Option'}</td>\n",
              "      <td>{(0008, 0100): (0008, 0100) Code Value                          SH: '113109', (0008, 0102): (0008, 0102) Coding Scheme Designator            SH: 'DCM', (0008, 0104): (0008, 0104) Code Meaning                        LO: 'Retain Device Identity Option'}</td>\n",
              "      <td>{(0008, 0100): (0008, 0100) Code Value                          SH: '11', (0008, 0102): (0008, 0102) Coding Scheme Designator            SH: 'XNAT', (0008, 0103): (0008, 0103) Coding Scheme Version               SH: '1.0', (0008, 0104): (0008, 0104) Code Meaning                        LO: 'XNAT DicomEdit 4 Script'}</td>\n",
              "      <td>1</td>\n",
              "      <td>0.1000</td>\n",
              "      <td>0</td>\n",
              "      <td>4095</td>\n",
              "      <td>2644.962954</td>\n",
              "      <td>789.842319</td>\n",
              "      <td>0.004637</td>\n",
              "      <td>NaN</td>\n",
              "      <td>NaN</td>\n",
              "      <td>NaN</td>\n",
              "      <td>NaN</td>\n",
              "      <td>NaN</td>\n",
              "      <td>NaN</td>\n",
              "      <td>NaN</td>\n",
              "      <td>NaN</td>\n",
              "    </tr>\n",
              "    <tr>\n",
              "      <th>2</th>\n",
              "      <td>2</td>\n",
              "      <td>ISO_IR 100</td>\n",
              "      <td>ORIGINAL</td>\n",
              "      <td>03a65300fa41</td>\n",
              "      <td>96e1e1cf5431</td>\n",
              "      <td>3108070a6130</td>\n",
              "      <td>f107fc39bf9f</td>\n",
              "      <td>0839203f09f4</td>\n",
              "      <td>CR</td>\n",
              "      <td>c6ed01a606df</td>\n",
              "      <td>6a44be078d46</td>\n",
              "      <td>F</td>\n",
              "      <td>CTP Default:  based on DICOM PS3.15 AnnexE. Details in 0012,0064</td>\n",
              "      <td>{(0008, 0100): (0008, 0100) Code Value                          SH: '113100', (0008, 0102): (0008, 0102) Coding Scheme Designator            SH: 'DCM', (0008, 0104): (0008, 0104) Code Meaning                        LO: 'Basic Application Confidentiality Profile'}</td>\n",
              "      <td>CHEST</td>\n",
              "      <td>0.0875</td>\n",
              "      <td>32d24b5596d7</td>\n",
              "      <td>e81087a81f8a</td>\n",
              "      <td>55625fb42f3f</td>\n",
              "      <td>1.0</td>\n",
              "      <td>1.0</td>\n",
              "      <td>1</td>\n",
              "      <td>MONOCHROME2</td>\n",
              "      <td>4020</td>\n",
              "      <td>4891</td>\n",
              "      <td>16</td>\n",
              "      <td>12</td>\n",
              "      <td>11</td>\n",
              "      <td>0</td>\n",
              "      <td>/content/drive/My Drive/kaggle-CoVID-shared/dataset/test/32d24b5596d7/e81087a81f8a/96e1e1cf5431.dcm</td>\n",
              "      <td>1.0</td>\n",
              "      <td>PRIMARY</td>\n",
              "      <td>1</td>\n",
              "      <td>{(0008, 0100): (0008, 0100) Code Value                          SH: '113105', (0008, 0102): (0008, 0102) Coding Scheme Designator            SH: 'DCM', (0008, 0104): (0008, 0104) Code Meaning                        LO: 'Clean Descriptors Option'}</td>\n",
              "      <td>{(0008, 0100): (0008, 0100) Code Value                          SH: '113107', (0008, 0102): (0008, 0102) Coding Scheme Designator            SH: 'DCM', (0008, 0104): (0008, 0104) Code Meaning                        LO: 'Retain Longitudinal Temporal Information Modified Dates Option'}</td>\n",
              "      <td>{(0008, 0100): (0008, 0100) Code Value                          SH: '113108', (0008, 0102): (0008, 0102) Coding Scheme Designator            SH: 'DCM', (0008, 0104): (0008, 0104) Code Meaning                        LO: 'Retain Patient Characteristics Option'}</td>\n",
              "      <td>{(0008, 0100): (0008, 0100) Code Value                          SH: '113109', (0008, 0102): (0008, 0102) Coding Scheme Designator            SH: 'DCM', (0008, 0104): (0008, 0104) Code Meaning                        LO: 'Retain Device Identity Option'}</td>\n",
              "      <td>{(0008, 0100): (0008, 0100) Code Value                          SH: '11', (0008, 0102): (0008, 0102) Coding Scheme Designator            SH: 'XNAT', (0008, 0103): (0008, 0103) Coding Scheme Version               SH: '1.0', (0008, 0104): (0008, 0104) Code Meaning                        LO: 'XNAT DicomEdit 4 Script'}</td>\n",
              "      <td>1</td>\n",
              "      <td>0.0875</td>\n",
              "      <td>0</td>\n",
              "      <td>4095</td>\n",
              "      <td>2258.238176</td>\n",
              "      <td>1435.733487</td>\n",
              "      <td>0.201666</td>\n",
              "      <td>GEIIS</td>\n",
              "      <td>NaN</td>\n",
              "      <td>NaN</td>\n",
              "      <td>NaN</td>\n",
              "      <td>NaN</td>\n",
              "      <td>NaN</td>\n",
              "      <td>NaN</td>\n",
              "      <td>NaN</td>\n",
              "    </tr>\n",
              "    <tr>\n",
              "      <th>3</th>\n",
              "      <td>3</td>\n",
              "      <td>ISO_IR 100</td>\n",
              "      <td>ORIGINAL</td>\n",
              "      <td>71228e4340de</td>\n",
              "      <td>b22a9e82f34e</td>\n",
              "      <td>2fb8dbe78524</td>\n",
              "      <td>9aa252353db6</td>\n",
              "      <td>bc4f674f82de</td>\n",
              "      <td>DX</td>\n",
              "      <td>1b8a8a590587</td>\n",
              "      <td>559540261b53</td>\n",
              "      <td>M</td>\n",
              "      <td>CTP Default:  based on DICOM PS3.15 AnnexE. Details in 0012,0064</td>\n",
              "      <td>{(0008, 0100): (0008, 0100) Code Value                          SH: '113100', (0008, 0102): (0008, 0102) Coding Scheme Designator            SH: 'DCM', (0008, 0104): (0008, 0104) Code Meaning                        LO: 'Basic Application Confidentiality Profile'}</td>\n",
              "      <td>CHEST</td>\n",
              "      <td>0.1500</td>\n",
              "      <td>df4910ccf64b</td>\n",
              "      <td>d3f352ac9550</td>\n",
              "      <td>55625fb42f3f</td>\n",
              "      <td>1.0</td>\n",
              "      <td>1.0</td>\n",
              "      <td>1</td>\n",
              "      <td>MONOCHROME1</td>\n",
              "      <td>2336</td>\n",
              "      <td>2836</td>\n",
              "      <td>16</td>\n",
              "      <td>15</td>\n",
              "      <td>14</td>\n",
              "      <td>0</td>\n",
              "      <td>/content/drive/My Drive/kaggle-CoVID-shared/dataset/test/df4910ccf64b/d3f352ac9550/b22a9e82f34e.dcm</td>\n",
              "      <td>1.0</td>\n",
              "      <td>PRIMARY</td>\n",
              "      <td>1</td>\n",
              "      <td>{(0008, 0100): (0008, 0100) Code Value                          SH: '113105', (0008, 0102): (0008, 0102) Coding Scheme Designator            SH: 'DCM', (0008, 0104): (0008, 0104) Code Meaning                        LO: 'Clean Descriptors Option'}</td>\n",
              "      <td>{(0008, 0100): (0008, 0100) Code Value                          SH: '113107', (0008, 0102): (0008, 0102) Coding Scheme Designator            SH: 'DCM', (0008, 0104): (0008, 0104) Code Meaning                        LO: 'Retain Longitudinal Temporal Information Modified Dates Option'}</td>\n",
              "      <td>{(0008, 0100): (0008, 0100) Code Value                          SH: '113108', (0008, 0102): (0008, 0102) Coding Scheme Designator            SH: 'DCM', (0008, 0104): (0008, 0104) Code Meaning                        LO: 'Retain Patient Characteristics Option'}</td>\n",
              "      <td>{(0008, 0100): (0008, 0100) Code Value                          SH: '113109', (0008, 0102): (0008, 0102) Coding Scheme Designator            SH: 'DCM', (0008, 0104): (0008, 0104) Code Meaning                        LO: 'Retain Device Identity Option'}</td>\n",
              "      <td>{(0008, 0100): (0008, 0100) Code Value                          SH: '11', (0008, 0102): (0008, 0102) Coding Scheme Designator            SH: 'XNAT', (0008, 0103): (0008, 0103) Coding Scheme Version               SH: '1.0', (0008, 0104): (0008, 0104) Code Meaning                        LO: 'XNAT DicomEdit 4 Script'}</td>\n",
              "      <td>1</td>\n",
              "      <td>0.1500</td>\n",
              "      <td>8319</td>\n",
              "      <td>26260</td>\n",
              "      <td>16150.946416</td>\n",
              "      <td>3275.041107</td>\n",
              "      <td>0.000000</td>\n",
              "      <td>NaN</td>\n",
              "      <td>NaN</td>\n",
              "      <td>NaN</td>\n",
              "      <td>NaN</td>\n",
              "      <td>NaN</td>\n",
              "      <td>NaN</td>\n",
              "      <td>NaN</td>\n",
              "      <td>NaN</td>\n",
              "    </tr>\n",
              "    <tr>\n",
              "      <th>4</th>\n",
              "      <td>4</td>\n",
              "      <td>ISO_IR 100</td>\n",
              "      <td>ORIGINAL</td>\n",
              "      <td>03a65300fa41</td>\n",
              "      <td>9b3eae4045c8</td>\n",
              "      <td>8d2657d32869</td>\n",
              "      <td>e1200f897749</td>\n",
              "      <td>cfc06f65b0a9</td>\n",
              "      <td>CR</td>\n",
              "      <td>ab556d594963</td>\n",
              "      <td>373e3ca2a0b4</td>\n",
              "      <td>M</td>\n",
              "      <td>CTP Default:  based on DICOM PS3.15 AnnexE. Details in 0012,0064</td>\n",
              "      <td>{(0008, 0100): (0008, 0100) Code Value                          SH: '113100', (0008, 0102): (0008, 0102) Coding Scheme Designator            SH: 'DCM', (0008, 0104): (0008, 0104) Code Meaning                        LO: 'Basic Application Confidentiality Profile'}</td>\n",
              "      <td>CHEST</td>\n",
              "      <td>0.1750</td>\n",
              "      <td>098be79259d5</td>\n",
              "      <td>9bfdaa1278a6</td>\n",
              "      <td>55625fb42f3f</td>\n",
              "      <td>1.0</td>\n",
              "      <td>1.0</td>\n",
              "      <td>1</td>\n",
              "      <td>MONOCHROME2</td>\n",
              "      <td>2010</td>\n",
              "      <td>2446</td>\n",
              "      <td>16</td>\n",
              "      <td>12</td>\n",
              "      <td>11</td>\n",
              "      <td>0</td>\n",
              "      <td>/content/drive/My Drive/kaggle-CoVID-shared/dataset/test/098be79259d5/9bfdaa1278a6/9b3eae4045c8.dcm</td>\n",
              "      <td>1.0</td>\n",
              "      <td>PRIMARY</td>\n",
              "      <td>1</td>\n",
              "      <td>{(0008, 0100): (0008, 0100) Code Value                          SH: '113105', (0008, 0102): (0008, 0102) Coding Scheme Designator            SH: 'DCM', (0008, 0104): (0008, 0104) Code Meaning                        LO: 'Clean Descriptors Option'}</td>\n",
              "      <td>{(0008, 0100): (0008, 0100) Code Value                          SH: '113107', (0008, 0102): (0008, 0102) Coding Scheme Designator            SH: 'DCM', (0008, 0104): (0008, 0104) Code Meaning                        LO: 'Retain Longitudinal Temporal Information Modified Dates Option'}</td>\n",
              "      <td>{(0008, 0100): (0008, 0100) Code Value                          SH: '113108', (0008, 0102): (0008, 0102) Coding Scheme Designator            SH: 'DCM', (0008, 0104): (0008, 0104) Code Meaning                        LO: 'Retain Patient Characteristics Option'}</td>\n",
              "      <td>{(0008, 0100): (0008, 0100) Code Value                          SH: '113109', (0008, 0102): (0008, 0102) Coding Scheme Designator            SH: 'DCM', (0008, 0104): (0008, 0104) Code Meaning                        LO: 'Retain Device Identity Option'}</td>\n",
              "      <td>{(0008, 0100): (0008, 0100) Code Value                          SH: '11', (0008, 0102): (0008, 0102) Coding Scheme Designator            SH: 'XNAT', (0008, 0103): (0008, 0103) Coding Scheme Version               SH: '1.0', (0008, 0104): (0008, 0104) Code Meaning                        LO: 'XNAT DicomEdit 4 Script'}</td>\n",
              "      <td>1</td>\n",
              "      <td>0.1750</td>\n",
              "      <td>0</td>\n",
              "      <td>4095</td>\n",
              "      <td>2966.239002</td>\n",
              "      <td>1166.989360</td>\n",
              "      <td>0.068223</td>\n",
              "      <td>NaN</td>\n",
              "      <td>NaN</td>\n",
              "      <td>NaN</td>\n",
              "      <td>NaN</td>\n",
              "      <td>NaN</td>\n",
              "      <td>NaN</td>\n",
              "      <td>NaN</td>\n",
              "      <td>NaN</td>\n",
              "    </tr>\n",
              "  </tbody>\n",
              "</table>\n",
              "</div>"
            ],
            "text/plain": [
              "   Unnamed: 0 SpecificCharacterSet  ... ImageType7 ImageType8\n",
              "0           0           ISO_IR 100  ...        NaN        NaN\n",
              "1           1           ISO_IR 100  ...        NaN        NaN\n",
              "2           2           ISO_IR 100  ...        NaN        NaN\n",
              "3           3           ISO_IR 100  ...        NaN        NaN\n",
              "4           4           ISO_IR 100  ...        NaN        NaN\n",
              "\n",
              "[5 rows x 53 columns]"
            ]
          },
          "metadata": {
            "tags": []
          },
          "execution_count": 31
        }
      ]
    },
    {
      "cell_type": "markdown",
      "metadata": {
        "id": "0OyfifVjLxns"
      },
      "source": [
        "Getting patient's information stored in the metadata of the DICOM file using get_pii function"
      ]
    },
    {
      "cell_type": "code",
      "metadata": {
        "colab": {
          "base_uri": "https://localhost:8080/"
        },
        "id": "Eta7k9hkIjIT",
        "outputId": "2d899e0a-4519-494d-8232-39bff0124c52"
      },
      "source": [
        "get_pii(items[8])"
      ],
      "execution_count": null,
      "outputs": [
        {
          "output_type": "stream",
          "text": [
            "(0010, 0010) Patient's Name                      PN: 'b7268430dad0'\n",
            "No Patient Birth Date\n",
            "(0010, 0040) Patient's Sex                       CS: 'M'\n",
            "No patient Age\n",
            "No Image Comments\n",
            "(0012, 0063) De-identification Method            LO: 'CTP Default:  based on DICOM PS3.15 AnnexE. Details in 0012,0064'\n",
            "(0012, 0064) De-identification Method Code Seque SQ: <Sequence, length 6>\n"
          ],
          "name": "stdout"
        }
      ]
    },
    {
      "cell_type": "markdown",
      "metadata": {
        "id": "AXa3nsvAOGSy"
      },
      "source": [
        "get_pii helps us to get information such as patient's name, DOB, age, sex etc. One of the most usefule thing is image comments sometimes that provides some additional information about a file. \n",
        "De-identification method provides a description or label of the mechanism used to remove a patient's identity. More information : [here](https://dicom.innolitics.com/ciods/cr-image/patient/00120063)\n",
        "\n"
      ]
    },
    {
      "cell_type": "markdown",
      "metadata": {
        "id": "vlEBvoOSPhFw"
      },
      "source": [
        "**Next we will create the dataframe**.\n",
        "We will load the train_image_level.csv file and train_study_level.csv file"
      ]
    },
    {
      "cell_type": "code",
      "metadata": {
        "id": "xaji0w4YMQCQ"
      },
      "source": [
        "train_image_level = pd.read_csv('dataset/train_image_level.csv')\n",
        "train_study_level= pd.read_csv('dataset/train_study_level.csv')"
      ],
      "execution_count": null,
      "outputs": []
    },
    {
      "cell_type": "code",
      "metadata": {
        "colab": {
          "base_uri": "https://localhost:8080/",
          "height": 204
        },
        "id": "LMdA93I9QE6W",
        "outputId": "c9c47796-1a5f-4a6e-e36e-6633877bcf1f"
      },
      "source": [
        "train_study_level.head()"
      ],
      "execution_count": null,
      "outputs": [
        {
          "output_type": "execute_result",
          "data": {
            "text/html": [
              "<div>\n",
              "<style scoped>\n",
              "    .dataframe tbody tr th:only-of-type {\n",
              "        vertical-align: middle;\n",
              "    }\n",
              "\n",
              "    .dataframe tbody tr th {\n",
              "        vertical-align: top;\n",
              "    }\n",
              "\n",
              "    .dataframe thead th {\n",
              "        text-align: right;\n",
              "    }\n",
              "</style>\n",
              "<table border=\"1\" class=\"dataframe\">\n",
              "  <thead>\n",
              "    <tr style=\"text-align: right;\">\n",
              "      <th></th>\n",
              "      <th>id</th>\n",
              "      <th>Negative for Pneumonia</th>\n",
              "      <th>Typical Appearance</th>\n",
              "      <th>Indeterminate Appearance</th>\n",
              "      <th>Atypical Appearance</th>\n",
              "    </tr>\n",
              "  </thead>\n",
              "  <tbody>\n",
              "    <tr>\n",
              "      <th>0</th>\n",
              "      <td>00086460a852_study</td>\n",
              "      <td>0</td>\n",
              "      <td>1</td>\n",
              "      <td>0</td>\n",
              "      <td>0</td>\n",
              "    </tr>\n",
              "    <tr>\n",
              "      <th>1</th>\n",
              "      <td>000c9c05fd14_study</td>\n",
              "      <td>0</td>\n",
              "      <td>0</td>\n",
              "      <td>0</td>\n",
              "      <td>1</td>\n",
              "    </tr>\n",
              "    <tr>\n",
              "      <th>2</th>\n",
              "      <td>00292f8c37bd_study</td>\n",
              "      <td>1</td>\n",
              "      <td>0</td>\n",
              "      <td>0</td>\n",
              "      <td>0</td>\n",
              "    </tr>\n",
              "    <tr>\n",
              "      <th>3</th>\n",
              "      <td>005057b3f880_study</td>\n",
              "      <td>1</td>\n",
              "      <td>0</td>\n",
              "      <td>0</td>\n",
              "      <td>0</td>\n",
              "    </tr>\n",
              "    <tr>\n",
              "      <th>4</th>\n",
              "      <td>0051d9b12e72_study</td>\n",
              "      <td>0</td>\n",
              "      <td>0</td>\n",
              "      <td>0</td>\n",
              "      <td>1</td>\n",
              "    </tr>\n",
              "  </tbody>\n",
              "</table>\n",
              "</div>"
            ],
            "text/plain": [
              "                   id  ...  Atypical Appearance\n",
              "0  00086460a852_study  ...                    0\n",
              "1  000c9c05fd14_study  ...                    1\n",
              "2  00292f8c37bd_study  ...                    0\n",
              "3  005057b3f880_study  ...                    0\n",
              "4  0051d9b12e72_study  ...                    1\n",
              "\n",
              "[5 rows x 5 columns]"
            ]
          },
          "metadata": {
            "tags": []
          },
          "execution_count": 34
        }
      ]
    },
    {
      "cell_type": "code",
      "metadata": {
        "colab": {
          "base_uri": "https://localhost:8080/",
          "height": 255
        },
        "id": "KpjkTedaSTHL",
        "outputId": "013cd433-6b76-4e43-e22e-731759e2615c"
      },
      "source": [
        "train_image_level.tail()"
      ],
      "execution_count": null,
      "outputs": [
        {
          "output_type": "execute_result",
          "data": {
            "text/html": [
              "<div>\n",
              "<style scoped>\n",
              "    .dataframe tbody tr th:only-of-type {\n",
              "        vertical-align: middle;\n",
              "    }\n",
              "\n",
              "    .dataframe tbody tr th {\n",
              "        vertical-align: top;\n",
              "    }\n",
              "\n",
              "    .dataframe thead th {\n",
              "        text-align: right;\n",
              "    }\n",
              "</style>\n",
              "<table border=\"1\" class=\"dataframe\">\n",
              "  <thead>\n",
              "    <tr style=\"text-align: right;\">\n",
              "      <th></th>\n",
              "      <th>id</th>\n",
              "      <th>boxes</th>\n",
              "      <th>label</th>\n",
              "      <th>StudyInstanceUID</th>\n",
              "    </tr>\n",
              "  </thead>\n",
              "  <tbody>\n",
              "    <tr>\n",
              "      <th>6329</th>\n",
              "      <td>ffcc6edd9445_image</td>\n",
              "      <td>NaN</td>\n",
              "      <td>none 1 0 0 1 1</td>\n",
              "      <td>7e6c68462e06</td>\n",
              "    </tr>\n",
              "    <tr>\n",
              "      <th>6330</th>\n",
              "      <td>ffd91a2c4ca0_image</td>\n",
              "      <td>NaN</td>\n",
              "      <td>none 1 0 0 1 1</td>\n",
              "      <td>8332bdaddb6e</td>\n",
              "    </tr>\n",
              "    <tr>\n",
              "      <th>6331</th>\n",
              "      <td>ffd9b6cf2961_image</td>\n",
              "      <td>[{'x': 2197.38566, 'y': 841.07361, 'width': 316.41699, 'height': 451.63758}, {'x': 2375.87717, 'y': 1830.89015, 'width': 267.7373, 'height': 305.59912}, {'x': 707.25199, 'y': 722.07926, 'width': 392.14044, 'height': 849.18683}]</td>\n",
              "      <td>opacity 1 2197.38566 841.07361 2513.80265 1292.71119 opacity 1 2375.87717 1830.89015 2643.6144700000004 2136.48927 opacity 1 707.25199 722.07926 1099.3924299999999 1571.26609</td>\n",
              "      <td>7eed9af03814</td>\n",
              "    </tr>\n",
              "    <tr>\n",
              "      <th>6332</th>\n",
              "      <td>ffdc682f7680_image</td>\n",
              "      <td>[{'x': 2729.27083, 'y': 332.26044, 'width': 1496.25016, 'height': 2604.58334}, {'x': 1005.8125, 'y': 1584.67711, 'width': 662.22913, 'height': 775.83337}]</td>\n",
              "      <td>opacity 1 2729.27083 332.26044 4225.52099 2936.84378 opacity 1 1005.8125 1584.67711 1668.0416300000002 2360.51048</td>\n",
              "      <td>a0cb0b96fb3d</td>\n",
              "    </tr>\n",
              "    <tr>\n",
              "      <th>6333</th>\n",
              "      <td>ffe942c8655f_image</td>\n",
              "      <td>[{'x': 208.86463, 'y': 91.53448, 'width': 450.96747, 'height': 628.05473}, {'x': 755.52522, 'y': 144.33069, 'width': 427.8692, 'height': 547.7605}]</td>\n",
              "      <td>opacity 1 208.86463 91.53448 659.8321 719.58921 opacity 1 755.52522 144.33069 1183.39442 692.09119</td>\n",
              "      <td>7d82d53204b8</td>\n",
              "    </tr>\n",
              "  </tbody>\n",
              "</table>\n",
              "</div>"
            ],
            "text/plain": [
              "                      id  ... StudyInstanceUID\n",
              "6329  ffcc6edd9445_image  ...     7e6c68462e06\n",
              "6330  ffd91a2c4ca0_image  ...     8332bdaddb6e\n",
              "6331  ffd9b6cf2961_image  ...     7eed9af03814\n",
              "6332  ffdc682f7680_image  ...     a0cb0b96fb3d\n",
              "6333  ffe942c8655f_image  ...     7d82d53204b8\n",
              "\n",
              "[5 rows x 4 columns]"
            ]
          },
          "metadata": {
            "tags": []
          },
          "execution_count": 35
        }
      ]
    },
    {
      "cell_type": "markdown",
      "metadata": {
        "id": "aw32rVaGVXmm"
      },
      "source": [
        "train_study_level contain studies with images that contians multiple labels which include Negative for Pneumonia, typical appearance, intermediate appearance, atypical appearance. image_stuidy_level contains images with single or multiple bounding boxes. Both of these files need to be merged"
      ]
    },
    {
      "cell_type": "markdown",
      "metadata": {
        "id": "BS_apX8WWSfo"
      },
      "source": [
        "On train_study_level we will rename the id column to StudyInstanceUIDso that we can merge it with the train_image_file"
      ]
    },
    {
      "cell_type": "code",
      "metadata": {
        "colab": {
          "base_uri": "https://localhost:8080/",
          "height": 204
        },
        "id": "dngglkZcSX1Z",
        "outputId": "c39b9ce6-bdaf-49cb-ead0-1eddcdd7980f"
      },
      "source": [
        "train_study_level.rename(columns={'id':'StudyInstanceUID'}, inplace = True)\n",
        "train_study_level.head()"
      ],
      "execution_count": null,
      "outputs": [
        {
          "output_type": "execute_result",
          "data": {
            "text/html": [
              "<div>\n",
              "<style scoped>\n",
              "    .dataframe tbody tr th:only-of-type {\n",
              "        vertical-align: middle;\n",
              "    }\n",
              "\n",
              "    .dataframe tbody tr th {\n",
              "        vertical-align: top;\n",
              "    }\n",
              "\n",
              "    .dataframe thead th {\n",
              "        text-align: right;\n",
              "    }\n",
              "</style>\n",
              "<table border=\"1\" class=\"dataframe\">\n",
              "  <thead>\n",
              "    <tr style=\"text-align: right;\">\n",
              "      <th></th>\n",
              "      <th>StudyInstanceUID</th>\n",
              "      <th>Negative for Pneumonia</th>\n",
              "      <th>Typical Appearance</th>\n",
              "      <th>Indeterminate Appearance</th>\n",
              "      <th>Atypical Appearance</th>\n",
              "    </tr>\n",
              "  </thead>\n",
              "  <tbody>\n",
              "    <tr>\n",
              "      <th>0</th>\n",
              "      <td>00086460a852_study</td>\n",
              "      <td>0</td>\n",
              "      <td>1</td>\n",
              "      <td>0</td>\n",
              "      <td>0</td>\n",
              "    </tr>\n",
              "    <tr>\n",
              "      <th>1</th>\n",
              "      <td>000c9c05fd14_study</td>\n",
              "      <td>0</td>\n",
              "      <td>0</td>\n",
              "      <td>0</td>\n",
              "      <td>1</td>\n",
              "    </tr>\n",
              "    <tr>\n",
              "      <th>2</th>\n",
              "      <td>00292f8c37bd_study</td>\n",
              "      <td>1</td>\n",
              "      <td>0</td>\n",
              "      <td>0</td>\n",
              "      <td>0</td>\n",
              "    </tr>\n",
              "    <tr>\n",
              "      <th>3</th>\n",
              "      <td>005057b3f880_study</td>\n",
              "      <td>1</td>\n",
              "      <td>0</td>\n",
              "      <td>0</td>\n",
              "      <td>0</td>\n",
              "    </tr>\n",
              "    <tr>\n",
              "      <th>4</th>\n",
              "      <td>0051d9b12e72_study</td>\n",
              "      <td>0</td>\n",
              "      <td>0</td>\n",
              "      <td>0</td>\n",
              "      <td>1</td>\n",
              "    </tr>\n",
              "  </tbody>\n",
              "</table>\n",
              "</div>"
            ],
            "text/plain": [
              "     StudyInstanceUID  ...  Atypical Appearance\n",
              "0  00086460a852_study  ...                    0\n",
              "1  000c9c05fd14_study  ...                    1\n",
              "2  00292f8c37bd_study  ...                    0\n",
              "3  005057b3f880_study  ...                    0\n",
              "4  0051d9b12e72_study  ...                    1\n",
              "\n",
              "[5 rows x 5 columns]"
            ]
          },
          "metadata": {
            "tags": []
          },
          "execution_count": 36
        }
      ]
    },
    {
      "cell_type": "code",
      "metadata": {
        "colab": {
          "base_uri": "https://localhost:8080/",
          "height": 80
        },
        "id": "96bnfNcJXppM",
        "outputId": "b180bd99-6bc7-4c09-af08-2f62c94ec178"
      },
      "source": [
        "train_study_level['StudyInstanceUID'] = train_study_level['StudyInstanceUID'].apply(lambda x: f'{x[:12]}')\n",
        "train_study_level[:1]"
      ],
      "execution_count": null,
      "outputs": [
        {
          "output_type": "execute_result",
          "data": {
            "text/html": [
              "<div>\n",
              "<style scoped>\n",
              "    .dataframe tbody tr th:only-of-type {\n",
              "        vertical-align: middle;\n",
              "    }\n",
              "\n",
              "    .dataframe tbody tr th {\n",
              "        vertical-align: top;\n",
              "    }\n",
              "\n",
              "    .dataframe thead th {\n",
              "        text-align: right;\n",
              "    }\n",
              "</style>\n",
              "<table border=\"1\" class=\"dataframe\">\n",
              "  <thead>\n",
              "    <tr style=\"text-align: right;\">\n",
              "      <th></th>\n",
              "      <th>StudyInstanceUID</th>\n",
              "      <th>Negative for Pneumonia</th>\n",
              "      <th>Typical Appearance</th>\n",
              "      <th>Indeterminate Appearance</th>\n",
              "      <th>Atypical Appearance</th>\n",
              "    </tr>\n",
              "  </thead>\n",
              "  <tbody>\n",
              "    <tr>\n",
              "      <th>0</th>\n",
              "      <td>00086460a852</td>\n",
              "      <td>0</td>\n",
              "      <td>1</td>\n",
              "      <td>0</td>\n",
              "      <td>0</td>\n",
              "    </tr>\n",
              "  </tbody>\n",
              "</table>\n",
              "</div>"
            ],
            "text/plain": [
              "  StudyInstanceUID  ...  Atypical Appearance\n",
              "0     00086460a852  ...                    0\n",
              "\n",
              "[1 rows x 5 columns]"
            ]
          },
          "metadata": {
            "tags": []
          },
          "execution_count": 37
        }
      ]
    },
    {
      "cell_type": "code",
      "metadata": {
        "colab": {
          "base_uri": "https://localhost:8080/",
          "height": 114
        },
        "id": "QB5AYwTpYwWu",
        "outputId": "60b957a0-0bbe-4fdb-de01-07f30ba2f856"
      },
      "source": [
        "merged = pd.merge(train_image_level, train_study_level , on ='StudyInstanceUID')\n",
        "merged[:1]"
      ],
      "execution_count": null,
      "outputs": [
        {
          "output_type": "execute_result",
          "data": {
            "text/html": [
              "<div>\n",
              "<style scoped>\n",
              "    .dataframe tbody tr th:only-of-type {\n",
              "        vertical-align: middle;\n",
              "    }\n",
              "\n",
              "    .dataframe tbody tr th {\n",
              "        vertical-align: top;\n",
              "    }\n",
              "\n",
              "    .dataframe thead th {\n",
              "        text-align: right;\n",
              "    }\n",
              "</style>\n",
              "<table border=\"1\" class=\"dataframe\">\n",
              "  <thead>\n",
              "    <tr style=\"text-align: right;\">\n",
              "      <th></th>\n",
              "      <th>id</th>\n",
              "      <th>boxes</th>\n",
              "      <th>label</th>\n",
              "      <th>StudyInstanceUID</th>\n",
              "      <th>Negative for Pneumonia</th>\n",
              "      <th>Typical Appearance</th>\n",
              "      <th>Indeterminate Appearance</th>\n",
              "      <th>Atypical Appearance</th>\n",
              "    </tr>\n",
              "  </thead>\n",
              "  <tbody>\n",
              "    <tr>\n",
              "      <th>0</th>\n",
              "      <td>000a312787f2_image</td>\n",
              "      <td>[{'x': 789.28836, 'y': 582.43035, 'width': 1026.65662, 'height': 1917.30292}, {'x': 2245.91208, 'y': 591.20528, 'width': 1094.66162, 'height': 1761.54944}]</td>\n",
              "      <td>opacity 1 789.28836 582.43035 1815.94498 2499.73327 opacity 1 2245.91208 591.20528 3340.5737 2352.75472</td>\n",
              "      <td>5776db0cec75</td>\n",
              "      <td>0</td>\n",
              "      <td>1</td>\n",
              "      <td>0</td>\n",
              "      <td>0</td>\n",
              "    </tr>\n",
              "  </tbody>\n",
              "</table>\n",
              "</div>"
            ],
            "text/plain": [
              "                   id  ... Atypical Appearance\n",
              "0  000a312787f2_image  ...                   0\n",
              "\n",
              "[1 rows x 8 columns]"
            ]
          },
          "metadata": {
            "tags": []
          },
          "execution_count": 38
        }
      ]
    },
    {
      "cell_type": "markdown",
      "metadata": {
        "id": "L_KxFD1TnWv4"
      },
      "source": [
        "Now we will do some cleanup of merged dataframe , such as we don't need boxes column and we will create a single column that contain the class for that particular bounding box"
      ]
    },
    {
      "cell_type": "code",
      "metadata": {
        "id": "v-jayEpzZII6",
        "colab": {
          "base_uri": "https://localhost:8080/",
          "height": 80
        },
        "outputId": "c56e787f-ccd5-4397-e993-8518c01e38f9"
      },
      "source": [
        "merged['id'] = merged['id'].apply(lambda x: f'{x[:-6]}')\n",
        "merged.loc[merged['Negative for Pneumonia']==1, 'class_y'] = 'Negative'\n",
        "merged.loc[merged['Typical Appearance']==1, 'class_y'] = 'Typical'\n",
        "merged.loc[merged['Indeterminate Appearance']==1, 'class_y'] = 'Indeterminate'\n",
        "merged.loc[merged['Atypical Appearance']==1, 'class_y'] = 'Atypical'\n",
        "merged.drop(['boxes', 'Negative for Pneumonia', 'Typical Appearance', \n",
        "             'Indeterminate Appearance', 'Atypical Appearance', 'StudyInstanceUID'], axis=1, inplace=True)\n",
        "merged[:1]"
      ],
      "execution_count": null,
      "outputs": [
        {
          "output_type": "execute_result",
          "data": {
            "text/html": [
              "<div>\n",
              "<style scoped>\n",
              "    .dataframe tbody tr th:only-of-type {\n",
              "        vertical-align: middle;\n",
              "    }\n",
              "\n",
              "    .dataframe tbody tr th {\n",
              "        vertical-align: top;\n",
              "    }\n",
              "\n",
              "    .dataframe thead th {\n",
              "        text-align: right;\n",
              "    }\n",
              "</style>\n",
              "<table border=\"1\" class=\"dataframe\">\n",
              "  <thead>\n",
              "    <tr style=\"text-align: right;\">\n",
              "      <th></th>\n",
              "      <th>id</th>\n",
              "      <th>label</th>\n",
              "      <th>class_y</th>\n",
              "    </tr>\n",
              "  </thead>\n",
              "  <tbody>\n",
              "    <tr>\n",
              "      <th>0</th>\n",
              "      <td>000a312787f2</td>\n",
              "      <td>opacity 1 789.28836 582.43035 1815.94498 2499.73327 opacity 1 2245.91208 591.20528 3340.5737 2352.75472</td>\n",
              "      <td>Typical</td>\n",
              "    </tr>\n",
              "  </tbody>\n",
              "</table>\n",
              "</div>"
            ],
            "text/plain": [
              "             id  ...  class_y\n",
              "0  000a312787f2  ...  Typical\n",
              "\n",
              "[1 rows x 3 columns]"
            ]
          },
          "metadata": {
            "tags": []
          },
          "execution_count": 39
        }
      ]
    },
    {
      "cell_type": "markdown",
      "metadata": {
        "id": "tbyKxodHpOVx"
      },
      "source": [
        "Extracting the bounding box coordinates"
      ]
    },
    {
      "cell_type": "code",
      "metadata": {
        "id": "8b_GMB90pKdI"
      },
      "source": [
        "m = []\n",
        "for i in merged.index:\n",
        "    val_len = len(merged['label'][i].split(' '))\n",
        "    val = merged['label'][i].split(' ')\n",
        "    label = merged['class_y'][i]\n",
        "    if val_len > 6:\n",
        "        box1 = val[2:6]\n",
        "        box2 = val[8:12]\n",
        "        boxes = box1 + box2 \n",
        "    else:\n",
        "        boxes = val[2:6]\n",
        "    m.append(boxes)"
      ],
      "execution_count": null,
      "outputs": []
    },
    {
      "cell_type": "code",
      "metadata": {
        "colab": {
          "base_uri": "https://localhost:8080/",
          "height": 111
        },
        "id": "IF-EMYQBpYv4",
        "outputId": "8d84f962-18bc-414f-df1f-c2671afa088b"
      },
      "source": [
        "merged['new_label'] = m\n",
        "del merged['label']\n",
        "merged[:2]"
      ],
      "execution_count": null,
      "outputs": [
        {
          "output_type": "execute_result",
          "data": {
            "text/html": [
              "<div>\n",
              "<style scoped>\n",
              "    .dataframe tbody tr th:only-of-type {\n",
              "        vertical-align: middle;\n",
              "    }\n",
              "\n",
              "    .dataframe tbody tr th {\n",
              "        vertical-align: top;\n",
              "    }\n",
              "\n",
              "    .dataframe thead th {\n",
              "        text-align: right;\n",
              "    }\n",
              "</style>\n",
              "<table border=\"1\" class=\"dataframe\">\n",
              "  <thead>\n",
              "    <tr style=\"text-align: right;\">\n",
              "      <th></th>\n",
              "      <th>id</th>\n",
              "      <th>class_y</th>\n",
              "      <th>new_label</th>\n",
              "    </tr>\n",
              "  </thead>\n",
              "  <tbody>\n",
              "    <tr>\n",
              "      <th>0</th>\n",
              "      <td>000a312787f2</td>\n",
              "      <td>Typical</td>\n",
              "      <td>[789.28836, 582.43035, 1815.94498, 2499.73327, 2245.91208, 591.20528, 3340.5737, 2352.75472]</td>\n",
              "    </tr>\n",
              "    <tr>\n",
              "      <th>1</th>\n",
              "      <td>000c3a3f293f</td>\n",
              "      <td>Negative</td>\n",
              "      <td>[0, 0, 1, 1]</td>\n",
              "    </tr>\n",
              "  </tbody>\n",
              "</table>\n",
              "</div>"
            ],
            "text/plain": [
              "             id  ...                                                                                     new_label\n",
              "0  000a312787f2  ...  [789.28836, 582.43035, 1815.94498, 2499.73327, 2245.91208, 591.20528, 3340.5737, 2352.75472]\n",
              "1  000c3a3f293f  ...                                                                                  [0, 0, 1, 1]\n",
              "\n",
              "[2 rows x 3 columns]"
            ]
          },
          "metadata": {
            "tags": []
          },
          "execution_count": 41
        }
      ]
    },
    {
      "cell_type": "markdown",
      "metadata": {
        "id": "tQGz2NRGpnIx"
      },
      "source": [
        "Now we will merge this to dicom dataframe, In order to do this we need to rename id to SOPInstanceUID and merge on SOPInstanceUID"
      ]
    },
    {
      "cell_type": "code",
      "metadata": {
        "colab": {
          "base_uri": "https://localhost:8080/",
          "height": 80
        },
        "id": "sZEGrq5epebX",
        "outputId": "69e51bc7-5553-4f7b-89af-18413c1d0b53"
      },
      "source": [
        "merged.rename(columns = {'id':'SOPInstanceUID'}, inplace = True)\n",
        "merged[:1]"
      ],
      "execution_count": null,
      "outputs": [
        {
          "output_type": "execute_result",
          "data": {
            "text/html": [
              "<div>\n",
              "<style scoped>\n",
              "    .dataframe tbody tr th:only-of-type {\n",
              "        vertical-align: middle;\n",
              "    }\n",
              "\n",
              "    .dataframe tbody tr th {\n",
              "        vertical-align: top;\n",
              "    }\n",
              "\n",
              "    .dataframe thead th {\n",
              "        text-align: right;\n",
              "    }\n",
              "</style>\n",
              "<table border=\"1\" class=\"dataframe\">\n",
              "  <thead>\n",
              "    <tr style=\"text-align: right;\">\n",
              "      <th></th>\n",
              "      <th>SOPInstanceUID</th>\n",
              "      <th>class_y</th>\n",
              "      <th>new_label</th>\n",
              "    </tr>\n",
              "  </thead>\n",
              "  <tbody>\n",
              "    <tr>\n",
              "      <th>0</th>\n",
              "      <td>000a312787f2</td>\n",
              "      <td>Typical</td>\n",
              "      <td>[789.28836, 582.43035, 1815.94498, 2499.73327, 2245.91208, 591.20528, 3340.5737, 2352.75472]</td>\n",
              "    </tr>\n",
              "  </tbody>\n",
              "</table>\n",
              "</div>"
            ],
            "text/plain": [
              "  SOPInstanceUID  ...                                                                                     new_label\n",
              "0   000a312787f2  ...  [789.28836, 582.43035, 1815.94498, 2499.73327, 2245.91208, 591.20528, 3340.5737, 2352.75472]\n",
              "\n",
              "[1 rows x 3 columns]"
            ]
          },
          "metadata": {
            "tags": []
          },
          "execution_count": 42
        }
      ]
    },
    {
      "cell_type": "code",
      "metadata": {
        "colab": {
          "base_uri": "https://localhost:8080/",
          "height": 236
        },
        "id": "9HOtM3L_rGsL",
        "outputId": "69ddbcea-8c08-4e32-b696-31520149ea49"
      },
      "source": [
        "dicom_merge = pd.merge(train_dicom_dataframe, merged, on='SOPInstanceUID')\n",
        "dicom_merge[:1]\n"
      ],
      "execution_count": null,
      "outputs": [
        {
          "output_type": "execute_result",
          "data": {
            "text/html": [
              "<div>\n",
              "<style scoped>\n",
              "    .dataframe tbody tr th:only-of-type {\n",
              "        vertical-align: middle;\n",
              "    }\n",
              "\n",
              "    .dataframe tbody tr th {\n",
              "        vertical-align: top;\n",
              "    }\n",
              "\n",
              "    .dataframe thead th {\n",
              "        text-align: right;\n",
              "    }\n",
              "</style>\n",
              "<table border=\"1\" class=\"dataframe\">\n",
              "  <thead>\n",
              "    <tr style=\"text-align: right;\">\n",
              "      <th></th>\n",
              "      <th>Unnamed: 0</th>\n",
              "      <th>SpecificCharacterSet</th>\n",
              "      <th>ImageType</th>\n",
              "      <th>SOPClassUID</th>\n",
              "      <th>SOPInstanceUID</th>\n",
              "      <th>StudyDate</th>\n",
              "      <th>StudyTime</th>\n",
              "      <th>AccessionNumber</th>\n",
              "      <th>Modality</th>\n",
              "      <th>PatientName</th>\n",
              "      <th>PatientID</th>\n",
              "      <th>PatientSex</th>\n",
              "      <th>DeidentificationMethod</th>\n",
              "      <th>DeidentificationMethodCodeSequence</th>\n",
              "      <th>BodyPartExamined</th>\n",
              "      <th>ImagerPixelSpacing</th>\n",
              "      <th>StudyInstanceUID</th>\n",
              "      <th>SeriesInstanceUID</th>\n",
              "      <th>StudyID</th>\n",
              "      <th>SeriesNumber</th>\n",
              "      <th>InstanceNumber</th>\n",
              "      <th>SamplesPerPixel</th>\n",
              "      <th>PhotometricInterpretation</th>\n",
              "      <th>Rows</th>\n",
              "      <th>Columns</th>\n",
              "      <th>BitsAllocated</th>\n",
              "      <th>BitsStored</th>\n",
              "      <th>HighBit</th>\n",
              "      <th>PixelRepresentation</th>\n",
              "      <th>fname</th>\n",
              "      <th>MultiImageType</th>\n",
              "      <th>ImageType1</th>\n",
              "      <th>MultiDeidentificationMethodCodeSequence</th>\n",
              "      <th>DeidentificationMethodCodeSequence1</th>\n",
              "      <th>DeidentificationMethodCodeSequence2</th>\n",
              "      <th>DeidentificationMethodCodeSequence3</th>\n",
              "      <th>DeidentificationMethodCodeSequence4</th>\n",
              "      <th>DeidentificationMethodCodeSequence5</th>\n",
              "      <th>MultiImagerPixelSpacing</th>\n",
              "      <th>ImagerPixelSpacing1</th>\n",
              "      <th>img_min</th>\n",
              "      <th>img_max</th>\n",
              "      <th>img_mean</th>\n",
              "      <th>img_std</th>\n",
              "      <th>img_pct_window</th>\n",
              "      <th>ImageType2</th>\n",
              "      <th>Unnamed: 46</th>\n",
              "      <th>ImageType3</th>\n",
              "      <th>ImageType4</th>\n",
              "      <th>ImageType5</th>\n",
              "      <th>ImageType6</th>\n",
              "      <th>ImageType7</th>\n",
              "      <th>ImageType8</th>\n",
              "      <th>class_y</th>\n",
              "      <th>new_label</th>\n",
              "    </tr>\n",
              "  </thead>\n",
              "  <tbody>\n",
              "    <tr>\n",
              "      <th>0</th>\n",
              "      <td>0</td>\n",
              "      <td>ISO_IR 100</td>\n",
              "      <td>ORIGINAL</td>\n",
              "      <td>03a65300fa41</td>\n",
              "      <td>9bc4d429d4e8</td>\n",
              "      <td>dc55a60f03c6</td>\n",
              "      <td>0b887f128603</td>\n",
              "      <td>0609c2760cf3</td>\n",
              "      <td>CR</td>\n",
              "      <td>cc5c2ee2f7af</td>\n",
              "      <td>cc5c2ee2f7af</td>\n",
              "      <td>F</td>\n",
              "      <td>CTP Default</td>\n",
              "      <td>{(0008, 0100): (0008, 0100) Code Value                          SH: '3', (0008, 0102): (0008, 0102) Coding Scheme Designator            SH: 'XNAT', (0008, 0103): (0008, 0103) Coding Scheme Version               SH: '1.0', (0008, 0104): (0008, 0104) Code Meaning                        LO: 'XNAT DicomEdit 6 Script'}</td>\n",
              "      <td>CHEST</td>\n",
              "      <td>0.1</td>\n",
              "      <td>fa6d3b56e333</td>\n",
              "      <td>27ad48d6bd2d</td>\n",
              "      <td>5f5361b32eff</td>\n",
              "      <td>1.0</td>\n",
              "      <td>1.0</td>\n",
              "      <td>1</td>\n",
              "      <td>MONOCHROME2</td>\n",
              "      <td>3480</td>\n",
              "      <td>4240</td>\n",
              "      <td>8</td>\n",
              "      <td>8</td>\n",
              "      <td>7</td>\n",
              "      <td>0</td>\n",
              "      <td>/content/drive/My Drive/kaggle-CoVID-shared/dataset/train/fa6d3b56e333/27ad48d6bd2d/9bc4d429d4e8.dcm</td>\n",
              "      <td>1.0</td>\n",
              "      <td>PRIMARY</td>\n",
              "      <td>1</td>\n",
              "      <td>{(0008, 0100): (0008, 0100) Code Value                          SH: '113100', (0008, 0102): (0008, 0102) Coding Scheme Designator            SH: 'DCM', (0008, 0104): (0008, 0104) Code Meaning                        LO: 'Basic Application Confidentiality Profile'}</td>\n",
              "      <td>{(0008, 0100): (0008, 0100) Code Value                          SH: '113105', (0008, 0102): (0008, 0102) Coding Scheme Designator            SH: 'DCM', (0008, 0104): (0008, 0104) Code Meaning                        LO: 'Clean Descriptors Option'}</td>\n",
              "      <td>{(0008, 0100): (0008, 0100) Code Value                          SH: '113107', (0008, 0102): (0008, 0102) Coding Scheme Designator            SH: 'DCM', (0008, 0104): (0008, 0104) Code Meaning                        LO: 'Retain Longitudinal Temporal Information Modified Dates Option'}</td>\n",
              "      <td>{(0008, 0100): (0008, 0100) Code Value                          SH: '113108', (0008, 0102): (0008, 0102) Coding Scheme Designator            SH: 'DCM', (0008, 0104): (0008, 0104) Code Meaning                        LO: 'Retain Patient Characteristics Option'}</td>\n",
              "      <td>{(0008, 0100): (0008, 0100) Code Value                          SH: '113109', (0008, 0102): (0008, 0102) Coding Scheme Designator            SH: 'DCM', (0008, 0104): (0008, 0104) Code Meaning                        LO: 'Retain Device Identity Option'}</td>\n",
              "      <td>1</td>\n",
              "      <td>0.1</td>\n",
              "      <td>0</td>\n",
              "      <td>255</td>\n",
              "      <td>108.365861</td>\n",
              "      <td>49.982352</td>\n",
              "      <td>0.741705</td>\n",
              "      <td>NaN</td>\n",
              "      <td>NaN</td>\n",
              "      <td>NaN</td>\n",
              "      <td>NaN</td>\n",
              "      <td>NaN</td>\n",
              "      <td>NaN</td>\n",
              "      <td>NaN</td>\n",
              "      <td>NaN</td>\n",
              "      <td>Typical</td>\n",
              "      <td>[702.06512, 1497.43248, 1131.98144, 2376.98595, 2275.79535, 1418.54876, 3340.7255299999997, 2633.3580899999997]</td>\n",
              "    </tr>\n",
              "  </tbody>\n",
              "</table>\n",
              "</div>"
            ],
            "text/plain": [
              "   Unnamed: 0  ...                                                                                                        new_label\n",
              "0           0  ...  [702.06512, 1497.43248, 1131.98144, 2376.98595, 2275.79535, 1418.54876, 3340.7255299999997, 2633.3580899999997]\n",
              "\n",
              "[1 rows x 55 columns]"
            ]
          },
          "metadata": {
            "tags": []
          },
          "execution_count": 44
        }
      ]
    },
    {
      "cell_type": "markdown",
      "metadata": {
        "id": "-2CMJHnQr4vv"
      },
      "source": [
        "Checking to see that the file path fname corresponds to the correct SOPInstanceUID"
      ]
    },
    {
      "cell_type": "code",
      "metadata": {
        "colab": {
          "base_uri": "https://localhost:8080/",
          "height": 35
        },
        "id": "fITvMOfHrLED",
        "outputId": "750e146c-bf61-4f0c-839f-6e4812e4f658"
      },
      "source": [
        "dicom_merge['fname'][20]\n"
      ],
      "execution_count": null,
      "outputs": [
        {
          "output_type": "execute_result",
          "data": {
            "application/vnd.google.colaboratory.intrinsic+json": {
              "type": "string"
            },
            "text/plain": [
              "'/content/drive/My Drive/kaggle-CoVID-shared/dataset/train/c2f0b61fa035/e7e303bce242/9be91275c44f.dcm'"
            ]
          },
          "metadata": {
            "tags": []
          },
          "execution_count": 45
        }
      ]
    },
    {
      "cell_type": "code",
      "metadata": {
        "colab": {
          "base_uri": "https://localhost:8080/",
          "height": 35
        },
        "id": "709fjCqAsIOm",
        "outputId": "5d90ad79-99d3-4a24-80dd-f8cc79513388"
      },
      "source": [
        "dicom_merge[\"SOPInstanceUID\"][20]"
      ],
      "execution_count": null,
      "outputs": [
        {
          "output_type": "execute_result",
          "data": {
            "application/vnd.google.colaboratory.intrinsic+json": {
              "type": "string"
            },
            "text/plain": [
              "'9be91275c44f'"
            ]
          },
          "metadata": {
            "tags": []
          },
          "execution_count": 46
        }
      ]
    },
    {
      "cell_type": "markdown",
      "metadata": {
        "id": "DOULrAw_tfek"
      },
      "source": [
        "## Datablock"
      ]
    },
    {
      "cell_type": "code",
      "metadata": {
        "colab": {
          "base_uri": "https://localhost:8080/",
          "height": 204
        },
        "id": "t6Br27mQsrao",
        "outputId": "c85bbdfc-4fc8-40ca-b1e9-39e79fc057d6"
      },
      "source": [
        "df = dicom_merge[['SOPInstanceUID', 'class_y', 'new_label', 'fname']].copy()\n",
        "df[:5]"
      ],
      "execution_count": null,
      "outputs": [
        {
          "output_type": "execute_result",
          "data": {
            "text/html": [
              "<div>\n",
              "<style scoped>\n",
              "    .dataframe tbody tr th:only-of-type {\n",
              "        vertical-align: middle;\n",
              "    }\n",
              "\n",
              "    .dataframe tbody tr th {\n",
              "        vertical-align: top;\n",
              "    }\n",
              "\n",
              "    .dataframe thead th {\n",
              "        text-align: right;\n",
              "    }\n",
              "</style>\n",
              "<table border=\"1\" class=\"dataframe\">\n",
              "  <thead>\n",
              "    <tr style=\"text-align: right;\">\n",
              "      <th></th>\n",
              "      <th>SOPInstanceUID</th>\n",
              "      <th>class_y</th>\n",
              "      <th>new_label</th>\n",
              "      <th>fname</th>\n",
              "    </tr>\n",
              "  </thead>\n",
              "  <tbody>\n",
              "    <tr>\n",
              "      <th>0</th>\n",
              "      <td>9bc4d429d4e8</td>\n",
              "      <td>Typical</td>\n",
              "      <td>[702.06512, 1497.43248, 1131.98144, 2376.98595, 2275.79535, 1418.54876, 3340.7255299999997, 2633.3580899999997]</td>\n",
              "      <td>/content/drive/My Drive/kaggle-CoVID-shared/dataset/train/fa6d3b56e333/27ad48d6bd2d/9bc4d429d4e8.dcm</td>\n",
              "    </tr>\n",
              "    <tr>\n",
              "      <th>1</th>\n",
              "      <td>78753bfe52b2</td>\n",
              "      <td>Indeterminate</td>\n",
              "      <td>[2700.8, 1523.2, 3673.60005, 2764.8001000000004, 1216, 1606.39993, 2112, 2553.6]</td>\n",
              "      <td>/content/drive/My Drive/kaggle-CoVID-shared/dataset/train/7dbc098b8eaf/21b49419d829/78753bfe52b2.dcm</td>\n",
              "    </tr>\n",
              "    <tr>\n",
              "      <th>2</th>\n",
              "      <td>0811fe666ab0</td>\n",
              "      <td>Negative</td>\n",
              "      <td>[0, 0, 1, 1]</td>\n",
              "      <td>/content/drive/My Drive/kaggle-CoVID-shared/dataset/train/20a86e21402f/637b252e991f/0811fe666ab0.dcm</td>\n",
              "    </tr>\n",
              "    <tr>\n",
              "      <th>3</th>\n",
              "      <td>39d186c9ff9c</td>\n",
              "      <td>Typical</td>\n",
              "      <td>[558.11378, 1767.54294, 963.81532, 2202.48423, 1541.30039, 1833.33238, 1961.62191, 2242.68889]</td>\n",
              "      <td>/content/drive/My Drive/kaggle-CoVID-shared/dataset/train/b1c31c1e103a/ccfd2e441885/39d186c9ff9c.dcm</td>\n",
              "    </tr>\n",
              "    <tr>\n",
              "      <th>4</th>\n",
              "      <td>1ce01f7fdb1c</td>\n",
              "      <td>Typical</td>\n",
              "      <td>[337.2244, 678.6556, 560.36951, 919.30227, 830.1855, 707.82489, 1016.86897, 907.63452]</td>\n",
              "      <td>/content/drive/My Drive/kaggle-CoVID-shared/dataset/train/e395615a9a0d/a62d7707e47f/1ce01f7fdb1c.dcm</td>\n",
              "    </tr>\n",
              "  </tbody>\n",
              "</table>\n",
              "</div>"
            ],
            "text/plain": [
              "  SOPInstanceUID  ...                                                                                                 fname\n",
              "0   9bc4d429d4e8  ...  /content/drive/My Drive/kaggle-CoVID-shared/dataset/train/fa6d3b56e333/27ad48d6bd2d/9bc4d429d4e8.dcm\n",
              "1   78753bfe52b2  ...  /content/drive/My Drive/kaggle-CoVID-shared/dataset/train/7dbc098b8eaf/21b49419d829/78753bfe52b2.dcm\n",
              "2   0811fe666ab0  ...  /content/drive/My Drive/kaggle-CoVID-shared/dataset/train/20a86e21402f/637b252e991f/0811fe666ab0.dcm\n",
              "3   39d186c9ff9c  ...  /content/drive/My Drive/kaggle-CoVID-shared/dataset/train/b1c31c1e103a/ccfd2e441885/39d186c9ff9c.dcm\n",
              "4   1ce01f7fdb1c  ...  /content/drive/My Drive/kaggle-CoVID-shared/dataset/train/e395615a9a0d/a62d7707e47f/1ce01f7fdb1c.dcm\n",
              "\n",
              "[5 rows x 4 columns]"
            ]
          },
          "metadata": {
            "tags": []
          },
          "execution_count": 47
        }
      ]
    },
    {
      "cell_type": "markdown",
      "metadata": {
        "id": "rHcdxnmjt5XU"
      },
      "source": [
        "In order to improve the processing time we will convert the dataframe to numpy array. The idea is taken from these two sources:https://www.kaggle.com/avirdee/siim-covid-19-initial-pipeline-fastai\n",
        "https://www.kaggle.com/muellerzr/fastai2-starter-kernel"
      ]
    },
    {
      "cell_type": "code",
      "metadata": {
        "colab": {
          "base_uri": "https://localhost:8080/"
        },
        "id": "nkjM1UHYttLn",
        "outputId": "653a731e-da31-4add-eb1a-99741ddb4d6d"
      },
      "source": [
        "im_df = df['fname'].unique()\n",
        "im_df = [fn for fn in im_df]\n",
        "fns = [Path(str(f'{fn}')) for fn in im_df]\n",
        "fns[:5]"
      ],
      "execution_count": null,
      "outputs": [
        {
          "output_type": "execute_result",
          "data": {
            "text/plain": [
              "[Path('/content/drive/My Drive/kaggle-CoVID-shared/dataset/train/fa6d3b56e333/27ad48d6bd2d/9bc4d429d4e8.dcm'),\n",
              " Path('/content/drive/My Drive/kaggle-CoVID-shared/dataset/train/7dbc098b8eaf/21b49419d829/78753bfe52b2.dcm'),\n",
              " Path('/content/drive/My Drive/kaggle-CoVID-shared/dataset/train/20a86e21402f/637b252e991f/0811fe666ab0.dcm'),\n",
              " Path('/content/drive/My Drive/kaggle-CoVID-shared/dataset/train/b1c31c1e103a/ccfd2e441885/39d186c9ff9c.dcm'),\n",
              " Path('/content/drive/My Drive/kaggle-CoVID-shared/dataset/train/e395615a9a0d/a62d7707e47f/1ce01f7fdb1c.dcm')]"
            ]
          },
          "metadata": {
            "tags": []
          },
          "execution_count": 48
        }
      ]
    },
    {
      "cell_type": "code",
      "metadata": {
        "id": "_odPoZiIumca"
      },
      "source": [
        "def get_items(noop): return fns\n"
      ],
      "execution_count": null,
      "outputs": []
    },
    {
      "cell_type": "code",
      "metadata": {
        "colab": {
          "base_uri": "https://localhost:8080/"
        },
        "id": "n6BteW0suqfB",
        "outputId": "a5b0ec46-dc37-4db6-d59d-cc231c529885"
      },
      "source": [
        "df_np = df.to_numpy()\n",
        "df_np[0]"
      ],
      "execution_count": null,
      "outputs": [
        {
          "output_type": "execute_result",
          "data": {
            "text/plain": [
              "array(['9bc4d429d4e8', 'Typical',\n",
              "       list(['702.06512', '1497.43248', '1131.98144', '2376.98595', '2275.79535', '1418.54876', '3340.7255299999997', '2633.3580899999997']),\n",
              "       '/content/drive/My Drive/kaggle-CoVID-shared/dataset/train/fa6d3b56e333/27ad48d6bd2d/9bc4d429d4e8.dcm'],\n",
              "      dtype=object)"
            ]
          },
          "metadata": {
            "tags": []
          },
          "execution_count": 50
        }
      ]
    },
    {
      "cell_type": "markdown",
      "metadata": {
        "id": "a968-hfOvGOV"
      },
      "source": [
        "Checking if the bounding box and label is accessible from the numpy array"
      ]
    },
    {
      "cell_type": "code",
      "metadata": {
        "colab": {
          "base_uri": "https://localhost:8080/",
          "height": 35
        },
        "id": "RnVUU69puzdT",
        "outputId": "b3837702-2302-4e69-cb47-7e28020d43ec"
      },
      "source": [
        "df_np[0][1]\n"
      ],
      "execution_count": null,
      "outputs": [
        {
          "output_type": "execute_result",
          "data": {
            "application/vnd.google.colaboratory.intrinsic+json": {
              "type": "string"
            },
            "text/plain": [
              "'Typical'"
            ]
          },
          "metadata": {
            "tags": []
          },
          "execution_count": 51
        }
      ]
    },
    {
      "cell_type": "code",
      "metadata": {
        "colab": {
          "base_uri": "https://localhost:8080/"
        },
        "id": "sjGekdrKu-No",
        "outputId": "b7f7ce5b-a31c-48d9-8c96-747ddb33ff72"
      },
      "source": [
        "df_np[0][-2]\n"
      ],
      "execution_count": null,
      "outputs": [
        {
          "output_type": "execute_result",
          "data": {
            "text/plain": [
              "['702.06512',\n",
              " '1497.43248',\n",
              " '1131.98144',\n",
              " '2376.98595',\n",
              " '2275.79535',\n",
              " '1418.54876',\n",
              " '3340.7255299999997',\n",
              " '2633.3580899999997']"
            ]
          },
          "metadata": {
            "tags": []
          },
          "execution_count": 52
        }
      ]
    },
    {
      "cell_type": "code",
      "metadata": {
        "id": "BZjl6uS-vB0n"
      },
      "source": [
        "def get_tmp_bbox(fn):\n",
        "    rows = np.where(df_np[:,0] == fn.name[:-4])\n",
        "    bboxs = df_np[rows][:,-2][0]\n",
        "    return np.array([np.fromstring(b, sep=',') for b in bboxs])"
      ],
      "execution_count": null,
      "outputs": []
    },
    {
      "cell_type": "code",
      "metadata": {
        "colab": {
          "base_uri": "https://localhost:8080/"
        },
        "id": "MXf5I114xN83",
        "outputId": "91d69687-b2dd-42db-bcd2-2e0f005ad429"
      },
      "source": [
        "get_tmp_bbox(get_items(data_source)[3])"
      ],
      "execution_count": null,
      "outputs": [
        {
          "output_type": "execute_result",
          "data": {
            "text/plain": [
              "array([[ 558.11378],\n",
              "       [1767.54294],\n",
              "       [ 963.81532],\n",
              "       [2202.48423],\n",
              "       [1541.30039],\n",
              "       [1833.33238],\n",
              "       [1961.62191],\n",
              "       [2242.68889]])"
            ]
          },
          "metadata": {
            "tags": []
          },
          "execution_count": 69
        }
      ]
    },
    {
      "cell_type": "code",
      "metadata": {
        "id": "k9yTvp7YxXO1"
      },
      "source": [
        ""
      ],
      "execution_count": null,
      "outputs": []
    }
  ]
}